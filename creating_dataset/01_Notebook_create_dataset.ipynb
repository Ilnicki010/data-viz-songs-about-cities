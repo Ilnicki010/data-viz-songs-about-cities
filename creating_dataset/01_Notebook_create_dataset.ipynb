{
 "cells": [
  {
   "cell_type": "markdown",
   "source": [
    "## Importing libs"
   ],
   "metadata": {}
  },
  {
   "cell_type": "code",
   "execution_count": 1,
   "source": [
    "import re\n",
    "from geopy import geocoders\n",
    "from geopy.geocoders import Nominatim\n",
    "from geopy.extra.rate_limiter import RateLimiter\n",
    "import pandas as pd\n",
    "import glob, os, time\n",
    "import sys  \n",
    "cwd = os.getcwd()\n",
    "from Script_utils import *"
   ],
   "outputs": [],
   "metadata": {}
  },
  {
   "cell_type": "markdown",
   "source": [
    "## Get all songs from U.S. and list separate articles"
   ],
   "metadata": {}
  },
  {
   "cell_type": "code",
   "execution_count": 2,
   "source": [
    "base_URL = 'https://en.wikipedia.org'\n",
    "all_songs_URL = base_URL + '/wiki/List_of_songs_about_cities'"
   ],
   "outputs": [],
   "metadata": {}
  },
  {
   "cell_type": "code",
   "execution_count": 3,
   "source": [
    "page_soup = load_page(all_songs_URL)\n",
    "\n",
    "us_h2 = page_soup.select('h2 > span.mw-headline#United_States')[0].parent"
   ],
   "outputs": [],
   "metadata": {}
  },
  {
   "cell_type": "code",
   "execution_count": 4,
   "source": [
    "cities = []\n",
    "states = []\n",
    "songs = []\n",
    "\n",
    "\n",
    "for element in us_h2.next_siblings:\n",
    "\n",
    "    if element.name == 'h2': break;\n",
    "    if element.name == 'h3':\n",
    "        city_state = get_city_and_state(element.getText())\n",
    "        start_point = element\n",
    "\n",
    "        for list_element in start_point.next_siblings:\n",
    "\n",
    "            if list_element.name == 'h3': break\n",
    "            if list_element.name == 'ul':\n",
    "\n",
    "                for song_element in list_element.select('li'):\n",
    "                    song_name = get_song_name(song_element.getText())\n",
    "                    songs.append(song_name)\n",
    "                    cities.append(city_state[0])\n",
    "                    states.append(city_state[1])\n",
    "\n",
    "            if list_element.name == 'div':\n",
    "                single_aricle_URL = list_element.select('a',herf=True)[0]['href']\n",
    "                print(single_aricle_URL)\n",
    "                continue"
   ],
   "outputs": [
    {
     "output_type": "stream",
     "name": "stdout",
     "text": [
      "/wiki/List_of_songs_about_Atlanta\n",
      "/wiki/List_of_songs_about_Birmingham,_Alabama\n",
      "/wiki/List_of_songs_about_Boston\n",
      "/wiki/List_of_songs_about_Chicago\n",
      "/wiki/List_of_songs_about_Detroit\n",
      "/wiki/List_of_songs_about_Los_Angeles\n",
      "/wiki/List_of_songs_about_Miami\n",
      "/wiki/List_of_songs_about_Nashville\n",
      "/wiki/List_of_songs_about_New_Orleans\n",
      "/wiki/List_of_songs_about_New_York_City\n",
      "/wiki/List_of_songs_about_Portland,_Oregon\n",
      "/wiki/List_of_songs_about_the_San_Francisco_Bay_Area\n",
      "/wiki/List_of_songs_about_Seattle\n"
     ]
    }
   ],
   "metadata": {}
  },
  {
   "cell_type": "markdown",
   "source": [
    "- /wiki/List_of_songs_about_Atlanta ✅\n",
    "- /wiki/List_of_songs_about_Birmingham,_Alabama 🚧\n",
    "- /wiki/List_of_songs_about_Boston ✅\n",
    "- /wiki/List_of_songs_about_Chicago ✅\n",
    "- /wiki/List_of_songs_about_Detroit ✅\n",
    "- /wiki/List_of_songs_about_Los_Angeles 🚧\n",
    "- /wiki/List_of_songs_about_Miami ✅\n",
    "- /wiki/List_of_songs_about_Nashville ✅\n",
    "- /wiki/List_of_songs_about_New_Orleans ✅\n",
    "- /wiki/List_of_songs_about_New_York_City ✅\n",
    "- /wiki/List_of_songs_about_Portland,_Oregon ✅\n",
    "- /wiki/List_of_songs_about_Seattle 🚧\n",
    "\n",
    "✅ - csv is generated <br/>\n",
    "🚧 - work in progress"
   ],
   "metadata": {}
  },
  {
   "cell_type": "code",
   "execution_count": 5,
   "source": [
    "print(f'Songs {len(songs)} | Cities: {len(cities)} | States: {len(states)}')"
   ],
   "outputs": [
    {
     "output_type": "stream",
     "name": "stdout",
     "text": [
      "Songs 666 | Cities: 666 | States: 666\n"
     ]
    }
   ],
   "metadata": {}
  },
  {
   "cell_type": "code",
   "execution_count": 6,
   "source": [
    "export_data = pd.DataFrame(data={'City':cities,'State':states,'Song':songs})"
   ],
   "outputs": [],
   "metadata": {}
  },
  {
   "cell_type": "code",
   "execution_count": 7,
   "source": [
    "export_data.info()"
   ],
   "outputs": [
    {
     "output_type": "stream",
     "name": "stdout",
     "text": [
      "<class 'pandas.core.frame.DataFrame'>\n",
      "RangeIndex: 666 entries, 0 to 665\n",
      "Data columns (total 3 columns):\n",
      " #   Column  Non-Null Count  Dtype \n",
      "---  ------  --------------  ----- \n",
      " 0   City    666 non-null    object\n",
      " 1   State   666 non-null    object\n",
      " 2   Song    666 non-null    object\n",
      "dtypes: object(3)\n",
      "memory usage: 15.7+ KB\n"
     ]
    }
   ],
   "metadata": {}
  },
  {
   "cell_type": "code",
   "execution_count": 8,
   "source": [
    "rows_with_nan = export_data[export_data.isnull().any(axis=1)]\n",
    "print(rows_with_nan)\n",
    "print(f'# of rows with NaN: {len(rows_with_nan)}')"
   ],
   "outputs": [
    {
     "output_type": "stream",
     "name": "stdout",
     "text": [
      "Empty DataFrame\n",
      "Columns: [City, State, Song]\n",
      "Index: []\n",
      "# of rows with NaN: 0\n"
     ]
    }
   ],
   "metadata": {}
  },
  {
   "cell_type": "markdown",
   "source": [
    "There were 18 rows with NaN values coused by issues below:\n",
    "\n",
    "1. Missing cloasing quote\n",
    "- Details: I noticed some of the songs in the Wikipedia article don't have closing quote (!) and my regex fail.\n",
    "- Solution: I could make more complex regex to handle this situation, but instead I edit Wikipedia article. There are no so many of that rows and it'll help future scrapers :)\n",
    "\n",
    "2. Different quote type\n",
    "- Details: I found out there are many different type of quotation marks in UNICODE.\n",
    "- Solution: I need to sanitize song names a bit"
   ],
   "metadata": {}
  },
  {
   "cell_type": "code",
   "execution_count": 9,
   "source": [
    "export_data.to_csv(cwd + '/datasets/Data_main.csv',index=False)\n",
    "export_data.info()"
   ],
   "outputs": [
    {
     "output_type": "stream",
     "name": "stdout",
     "text": [
      "<class 'pandas.core.frame.DataFrame'>\n",
      "RangeIndex: 666 entries, 0 to 665\n",
      "Data columns (total 3 columns):\n",
      " #   Column  Non-Null Count  Dtype \n",
      "---  ------  --------------  ----- \n",
      " 0   City    666 non-null    object\n",
      " 1   State   666 non-null    object\n",
      " 2   Song    666 non-null    object\n",
      "dtypes: object(3)\n",
      "memory usage: 15.7+ KB\n"
     ]
    }
   ],
   "metadata": {}
  },
  {
   "cell_type": "markdown",
   "source": [
    "## Scraping data for each big city\n",
    "\n",
    "Unfortunately, every article has a slightly different structure so I had to scrape them separately."
   ],
   "metadata": {}
  },
  {
   "cell_type": "code",
   "execution_count": 10,
   "source": [
    "def scrape_single_aricle(URL, start_tag,start_id, stop_tag, city_name, state_name):\n",
    "    page_soup = load_page(base_URL + URL)\n",
    "\n",
    "    start = page_soup.find(start_tag,id=start_id).parent\n",
    "\n",
    "    songs = []\n",
    "    cities = []\n",
    "    states = []\n",
    "\n",
    "    for element in start.next_siblings:\n",
    "        if element.name == stop_tag: break\n",
    "        if element.name == 'ul':\n",
    "            for li in element.select('li'):\n",
    "                song_name = get_song_name(li.getText())\n",
    "                songs.append(song_name)\n",
    "                cities.append(city_name)\n",
    "                states.append(state_name)\n",
    "    return {\n",
    "        'songs':songs,\n",
    "        'cities':cities,\n",
    "        'states':states\n",
    "    }"
   ],
   "outputs": [],
   "metadata": {}
  },
  {
   "cell_type": "markdown",
   "source": [
    "### Detroit"
   ],
   "metadata": {}
  },
  {
   "cell_type": "code",
   "execution_count": 11,
   "source": [
    "detroit_results = scrape_single_aricle(\n",
    "    URL = '/wiki/List_of_songs_about_Detroit',\n",
    "    start_tag = 'span',\n",
    "    start_id='0-9',\n",
    "    stop_tag = 'div',\n",
    "    city_name = 'Detroit',\n",
    "    state_name = 'Michigan')"
   ],
   "outputs": [],
   "metadata": {}
  },
  {
   "cell_type": "code",
   "execution_count": 12,
   "source": [
    "export_data_detroit = pd.DataFrame(data={'City':detroit_results['cities'],'State':detroit_results['states'],'Song':detroit_results['songs']})\n",
    "export_data_detroit.to_csv(cwd + '/datasets/Data_detroit.csv',index=False)\n",
    "export_data_detroit.info()"
   ],
   "outputs": [
    {
     "output_type": "stream",
     "name": "stdout",
     "text": [
      "<class 'pandas.core.frame.DataFrame'>\n",
      "RangeIndex: 316 entries, 0 to 315\n",
      "Data columns (total 3 columns):\n",
      " #   Column  Non-Null Count  Dtype \n",
      "---  ------  --------------  ----- \n",
      " 0   City    316 non-null    object\n",
      " 1   State   316 non-null    object\n",
      " 2   Song    303 non-null    object\n",
      "dtypes: object(3)\n",
      "memory usage: 7.5+ KB\n"
     ]
    }
   ],
   "metadata": {}
  },
  {
   "cell_type": "markdown",
   "source": [
    "### Miami"
   ],
   "metadata": {}
  },
  {
   "cell_type": "code",
   "execution_count": 13,
   "source": [
    "miami_results = scrape_single_aricle(\n",
    "    URL = '/wiki/List_of_songs_about_Miami',\n",
    "    start_tag = 'span',\n",
    "    start_id='Songs_about_Miami',\n",
    "    stop_tag = 'h2',\n",
    "    city_name = 'Miami',\n",
    "    state_name = 'Florida')"
   ],
   "outputs": [],
   "metadata": {}
  },
  {
   "cell_type": "code",
   "execution_count": 14,
   "source": [
    "export_data_miami = pd.DataFrame(data={'City':miami_results['cities'],'State':miami_results['states'],'Song':miami_results['songs']})\n",
    "export_data_miami.to_csv(cwd + '/datasets/Data_miami.csv',index=False)\n",
    "export_data_miami.info()"
   ],
   "outputs": [
    {
     "output_type": "stream",
     "name": "stdout",
     "text": [
      "<class 'pandas.core.frame.DataFrame'>\n",
      "RangeIndex: 45 entries, 0 to 44\n",
      "Data columns (total 3 columns):\n",
      " #   Column  Non-Null Count  Dtype \n",
      "---  ------  --------------  ----- \n",
      " 0   City    45 non-null     object\n",
      " 1   State   45 non-null     object\n",
      " 2   Song    45 non-null     object\n",
      "dtypes: object(3)\n",
      "memory usage: 1.2+ KB\n"
     ]
    }
   ],
   "metadata": {}
  },
  {
   "cell_type": "markdown",
   "source": [
    "### New Orleans"
   ],
   "metadata": {}
  },
  {
   "cell_type": "code",
   "execution_count": 15,
   "source": [
    "new_orleans_results = scrape_single_aricle(\n",
    "    URL = '/wiki/List_of_songs_about_New_Orleans',\n",
    "    start_tag = 'span',\n",
    "    start_id='0-9',\n",
    "    stop_tag = 'div',\n",
    "    city_name = 'New Orleans',\n",
    "    state_name = 'Louisiana')"
   ],
   "outputs": [],
   "metadata": {}
  },
  {
   "cell_type": "code",
   "execution_count": 16,
   "source": [
    "export_data_new_orleans = pd.DataFrame(data={'City':new_orleans_results['cities'],'State':new_orleans_results['states'],'Song':new_orleans_results['songs']})\n",
    "export_data_new_orleans.to_csv(cwd + '/datasets/Data_new_orleans.csv',index=False)\n",
    "export_data_new_orleans.info()"
   ],
   "outputs": [
    {
     "output_type": "stream",
     "name": "stdout",
     "text": [
      "<class 'pandas.core.frame.DataFrame'>\n",
      "RangeIndex: 779 entries, 0 to 778\n",
      "Data columns (total 3 columns):\n",
      " #   Column  Non-Null Count  Dtype \n",
      "---  ------  --------------  ----- \n",
      " 0   City    779 non-null    object\n",
      " 1   State   779 non-null    object\n",
      " 2   Song    775 non-null    object\n",
      "dtypes: object(3)\n",
      "memory usage: 18.4+ KB\n"
     ]
    }
   ],
   "metadata": {}
  },
  {
   "cell_type": "markdown",
   "source": [
    "### Los Angeles"
   ],
   "metadata": {}
  },
  {
   "cell_type": "code",
   "execution_count": 17,
   "source": [
    "los_angeles_results = scrape_single_aricle(\n",
    "    URL = '/wiki/List_of_songs_about_Los_Angeles',\n",
    "    start_tag = 'span',\n",
    "    start_id='#s–A',\n",
    "    stop_tag = 'h2',\n",
    "    city_name = 'Los Angeles',\n",
    "    state_name = 'California')"
   ],
   "outputs": [],
   "metadata": {}
  },
  {
   "cell_type": "code",
   "execution_count": 18,
   "source": [
    "export_data_los_angeles = pd.DataFrame(data={'City':los_angeles_results['cities'],'State':los_angeles_results['states'],'Song':los_angeles_results['songs']})\n",
    "export_data_los_angeles.to_csv(cwd + '/datasets/Data_los_angeles.csv',index=False)\n",
    "export_data_los_angeles.info()"
   ],
   "outputs": [
    {
     "output_type": "stream",
     "name": "stdout",
     "text": [
      "<class 'pandas.core.frame.DataFrame'>\n",
      "RangeIndex: 2696 entries, 0 to 2695\n",
      "Data columns (total 3 columns):\n",
      " #   Column  Non-Null Count  Dtype \n",
      "---  ------  --------------  ----- \n",
      " 0   City    2696 non-null   object\n",
      " 1   State   2696 non-null   object\n",
      " 2   Song    2681 non-null   object\n",
      "dtypes: object(3)\n",
      "memory usage: 63.3+ KB\n"
     ]
    }
   ],
   "metadata": {}
  },
  {
   "cell_type": "markdown",
   "source": [
    "### Chicago"
   ],
   "metadata": {}
  },
  {
   "cell_type": "code",
   "execution_count": 19,
   "source": [
    "chicago_results = scrape_single_aricle(\n",
    "    URL = '/wiki/List_of_songs_about_Chicago',\n",
    "    start_tag = 'span',\n",
    "    start_id='0–9',\n",
    "    stop_tag = 'p',\n",
    "    city_name = 'Chicago',\n",
    "    state_name = 'Illinois')"
   ],
   "outputs": [],
   "metadata": {}
  },
  {
   "cell_type": "code",
   "execution_count": 20,
   "source": [
    "export_data_chicago = pd.DataFrame(data={'City':chicago_results['cities'],'State':chicago_results['states'],'Song':chicago_results['songs']})\n",
    "export_data_chicago.to_csv(cwd + '/datasets/Data_chicago.csv',index=False)\n",
    "export_data_chicago.info()"
   ],
   "outputs": [],
   "metadata": {}
  },
  {
   "cell_type": "markdown",
   "source": [
    "### New York City"
   ],
   "metadata": {}
  },
  {
   "cell_type": "code",
   "execution_count": 21,
   "source": [
    "page_soup = load_page(base_URL + '/wiki/List_of_songs_about_New_York_City')\n",
    "\n",
    "start = page_soup.find(\"span\",id=\"0–9\").parent\n",
    "\n",
    "songs = []\n",
    "cities = []\n",
    "states = []\n",
    "\n",
    "for element in start.next_siblings:\n",
    "    if element.name == 'p': break\n",
    "    if element.name == 'div':\n",
    "        el = element.select('ul')[0]\n",
    "        for li in el.select('li'):\n",
    "            song_name = get_song_name(li.getText())\n",
    "            songs.append(song_name)\n",
    "            cities.append('New York City')\n",
    "            states.append('New York')"
   ],
   "outputs": [],
   "metadata": {}
  },
  {
   "cell_type": "code",
   "execution_count": 22,
   "source": [
    "export_data_new_york_city = pd.DataFrame(data={'City':cities,'State':states,'Song':songs})\n",
    "export_data_new_york_city.to_csv(cwd + '/datasets/Data_new_york_city.csv',index=False)\n",
    "export_data_new_york_city.info()"
   ],
   "outputs": [],
   "metadata": {}
  },
  {
   "cell_type": "markdown",
   "source": [
    "### Nashville"
   ],
   "metadata": {}
  },
  {
   "cell_type": "code",
   "execution_count": 23,
   "source": [
    "page_soup = load_page(base_URL + '/wiki/List_of_songs_about_Nashville,_Tennessee')\n",
    "\n",
    "start = page_soup.find(\"span\",id=\"C\").parent\n",
    "\n",
    "songs = []\n",
    "cities = []\n",
    "states = []\n",
    "\n",
    "for element in start.next_siblings:\n",
    "    if element.name == 'h2' and element.select('span#References'): break\n",
    "    if element.name == 'ul':\n",
    "        for li in element.select('li'):\n",
    "            song_name = get_song_name(li.getText())\n",
    "            songs.append(song_name)\n",
    "            cities.append('Nashville')\n",
    "            states.append('Tennessee')"
   ],
   "outputs": [],
   "metadata": {}
  },
  {
   "cell_type": "code",
   "execution_count": 24,
   "source": [
    "export_data_nashville = pd.DataFrame(data={'City':cities,'State':states,'Song':songs})\n",
    "export_data_nashville.to_csv(cwd + '/datasets/Data_nashville.csv',index=False)\n",
    "export_data_nashville.info()"
   ],
   "outputs": [],
   "metadata": {}
  },
  {
   "cell_type": "markdown",
   "source": [
    "### Atlanta"
   ],
   "metadata": {}
  },
  {
   "cell_type": "code",
   "execution_count": 25,
   "source": [
    "page_soup = load_page(base_URL + '/wiki/List_of_songs_about_Atlanta')\n",
    "\n",
    "songs_list = page_soup.find(\"ul\")\n",
    "\n",
    "songs = []\n",
    "cities = []\n",
    "states = []\n",
    "\n",
    "for li in songs_list.select('li'):\n",
    "    song_name = get_song_name(li.getText())\n",
    "    songs.append(song_name)\n",
    "    cities.append('Atlanta')\n",
    "    states.append('Georgia')"
   ],
   "outputs": [],
   "metadata": {}
  },
  {
   "cell_type": "code",
   "execution_count": 26,
   "source": [
    "export_data_atlanta = pd.DataFrame(data={'City':cities,'State':states,'Song':songs})\n",
    "export_data_atlanta.to_csv(cwd + '/datasets/Data_atlanta.csv',index=False)\n",
    "export_data_atlanta.info()"
   ],
   "outputs": [
    {
     "output_type": "stream",
     "name": "stdout",
     "text": [
      "<class 'pandas.core.frame.DataFrame'>\n",
      "RangeIndex: 41 entries, 0 to 40\n",
      "Data columns (total 3 columns):\n",
      " #   Column  Non-Null Count  Dtype \n",
      "---  ------  --------------  ----- \n",
      " 0   City    41 non-null     object\n",
      " 1   State   41 non-null     object\n",
      " 2   Song    41 non-null     object\n",
      "dtypes: object(3)\n",
      "memory usage: 1.1+ KB\n"
     ]
    }
   ],
   "metadata": {}
  },
  {
   "cell_type": "markdown",
   "source": [
    "### Boston"
   ],
   "metadata": {}
  },
  {
   "cell_type": "code",
   "execution_count": 27,
   "source": [
    "page_soup = load_page(base_URL + '/wiki/List_of_songs_about_Boston')\n",
    "\n",
    "songs_list = page_soup.find(\"ul\")\n",
    "\n",
    "songs = []\n",
    "cities = []\n",
    "states = []\n",
    "\n",
    "for li in songs_list.select('li'):\n",
    "    song_name = get_song_name(li.getText())\n",
    "    songs.append(song_name)\n",
    "    cities.append('Boston')\n",
    "    states.append('Massachusetts')"
   ],
   "outputs": [],
   "metadata": {}
  },
  {
   "cell_type": "code",
   "execution_count": 28,
   "source": [
    "export_data_boston = pd.DataFrame(data={'City':cities,'State':states,'Song':songs})\n",
    "export_data_boston.to_csv(cwd + '/datasets/Data_boston.csv',index=False)\n",
    "export_data_boston.info()"
   ],
   "outputs": [
    {
     "output_type": "stream",
     "name": "stdout",
     "text": [
      "<class 'pandas.core.frame.DataFrame'>\n",
      "RangeIndex: 134 entries, 0 to 133\n",
      "Data columns (total 3 columns):\n",
      " #   Column  Non-Null Count  Dtype \n",
      "---  ------  --------------  ----- \n",
      " 0   City    134 non-null    object\n",
      " 1   State   134 non-null    object\n",
      " 2   Song    134 non-null    object\n",
      "dtypes: object(3)\n",
      "memory usage: 3.3+ KB\n"
     ]
    }
   ],
   "metadata": {}
  },
  {
   "cell_type": "markdown",
   "source": [
    "### Portland"
   ],
   "metadata": {}
  },
  {
   "cell_type": "code",
   "execution_count": 29,
   "source": [
    "page_soup = load_page(base_URL + '/wiki/List_of_songs_about_Portland,_Oregon')\n",
    "\n",
    "songs_list = page_soup.find(\"ul\")\n",
    "\n",
    "songs = []\n",
    "cities = []\n",
    "states = []\n",
    "\n",
    "for li in songs_list.select('li'):\n",
    "    song_name = get_song_name(li.getText())\n",
    "    songs.append(song_name)\n",
    "    cities.append('Portland')\n",
    "    states.append('Oregon')"
   ],
   "outputs": [],
   "metadata": {}
  },
  {
   "cell_type": "code",
   "execution_count": 30,
   "source": [
    "export_data_portland = pd.DataFrame(data={'City':cities,'State':states,'Song':songs})\n",
    "export_data_portland.to_csv(cwd + '/datasets/Data_portland.csv',index=False)\n",
    "export_data_portland.info()"
   ],
   "outputs": [
    {
     "output_type": "stream",
     "name": "stdout",
     "text": [
      "<class 'pandas.core.frame.DataFrame'>\n",
      "RangeIndex: 31 entries, 0 to 30\n",
      "Data columns (total 3 columns):\n",
      " #   Column  Non-Null Count  Dtype \n",
      "---  ------  --------------  ----- \n",
      " 0   City    31 non-null     object\n",
      " 1   State   31 non-null     object\n",
      " 2   Song    31 non-null     object\n",
      "dtypes: object(3)\n",
      "memory usage: 872.0+ bytes\n"
     ]
    }
   ],
   "metadata": {}
  },
  {
   "cell_type": "markdown",
   "source": [
    "## Getting lat and long from GeoPy"
   ],
   "metadata": {}
  },
  {
   "cell_type": "code",
   "execution_count": 31,
   "source": [
    "geolocator = Nominatim(user_agent=\"my_app\")"
   ],
   "outputs": [],
   "metadata": {}
  },
  {
   "cell_type": "code",
   "execution_count": 32,
   "source": [
    "separate_cities = [\n",
    "    {\n",
    "        'city':'Los Angeles',\n",
    "        'state':'California'\n",
    "    },\n",
    "    {\n",
    "        'city':'Atlanta',\n",
    "        'state':'Georgia'\n",
    "    },\n",
    "    {\n",
    "        'city':'Boston',\n",
    "        'state':'Massachusetts'\n",
    "    },\n",
    "    {\n",
    "        'city':'Chicago',\n",
    "        'state':'Illinois'\n",
    "    },\n",
    "    {\n",
    "        'city':'Detroit',\n",
    "        'state':'Michigan'\n",
    "    },\n",
    "    {\n",
    "        'city':'Miami',\n",
    "        'state':'Florida'\n",
    "    },\n",
    "    {\n",
    "        'city':'Nashville',\n",
    "        'state':'Tennessee'\n",
    "    },\n",
    "    {\n",
    "        'city':'New Orleans',\n",
    "        'state':'Louisiana'\n",
    "    },\n",
    "    {\n",
    "        'city':'New York City',\n",
    "        'state':'New York'\n",
    "    },\n",
    "    {\n",
    "        'city':'Portland',\n",
    "        'state':'Oregon'\n",
    "    }\n",
    "]"
   ],
   "outputs": [],
   "metadata": {}
  },
  {
   "cell_type": "code",
   "execution_count": 33,
   "source": [
    "i = 0\n",
    "while i < len(separate_cities):\n",
    "    try:\n",
    "        loc = geolocator.geocode(f'{separate_cities[i][\"city\"]},{separate_cities[i][\"state\"]} United States')\n",
    "    except Exception:\n",
    "        print(f'🛑 Can\\'t generate coordinates for {separate_cities[i][\"city\"]}')\n",
    "        continue\n",
    "\n",
    "    dataset_to_change_PATH = cwd + f'/datasets/Data_{normalized_city_name(separate_cities[i][\"city\"])}.csv'\n",
    "\n",
    "    data_to_change = pd.read_csv(dataset_to_change_PATH, index_col=[0])\n",
    "    data_to_change['lat'] = loc.latitude\n",
    "    data_to_change['long'] = loc.longitude\n",
    "    data_to_change.to_csv(dataset_to_change_PATH)\n",
    "    print(f'✅ Coordinates for {separate_cities[i][\"city\"]} generated!')\n",
    "    i+=1\n"
   ],
   "outputs": [
    {
     "output_type": "stream",
     "name": "stdout",
     "text": [
      "✅ Coordinates for Los Angeles generated!\n",
      "✅ Coordinates for Atlanta generated!\n",
      "✅ Coordinates for Boston generated!\n",
      "✅ Coordinates for Chicago generated!\n",
      "✅ Coordinates for Detroit generated!\n",
      "✅ Coordinates for Miami generated!\n",
      "✅ Coordinates for Nashville generated!\n",
      "✅ Coordinates for New Orleans generated!\n",
      "✅ Coordinates for New York City generated!\n",
      "✅ Coordinates for Portland generated!\n"
     ]
    }
   ],
   "metadata": {}
  },
  {
   "cell_type": "markdown",
   "source": [
    "\n",
    "## Get lat and long for main dataset\n",
    "\n",
    "*Note: GeoPy allows for 2500 requests per day*"
   ],
   "metadata": {}
  },
  {
   "cell_type": "code",
   "execution_count": 34,
   "source": [
    "main_dataset_import = pd.read_csv(cwd + '/datasets/Data_main.csv')\n",
    "main_dataset = main_dataset_import.copy()\n",
    "main_dataset"
   ],
   "outputs": [
    {
     "output_type": "execute_result",
     "data": {
      "text/plain": [
       "           City     State                                               Song\n",
       "0      Aberdeen  Maryland                                               I-95\n",
       "1       Abilene    Kansas                                            Abilene\n",
       "2       Abilene    Kansas                                              Loser\n",
       "3         Akron      Ohio                                   Downtown (Akron)\n",
       "4         Akron      Ohio                                   My City Was Gone\n",
       "..          ...       ...                                                ...\n",
       "661   Ypsilanti  Michigan                                  Born in a Trailer\n",
       "662   Ypsilanti  Michigan  For The Widows In Paradise, For The Fatherless...\n",
       "663   Ypsilanti  Michigan                                          Ypsilanti\n",
       "664   Ypsilanti  Michigan                                     Ypsilanti Song\n",
       "665  Youngstown      Ohio                                         Youngstown\n",
       "\n",
       "[666 rows x 3 columns]"
      ],
      "text/html": [
       "<div>\n",
       "<style scoped>\n",
       "    .dataframe tbody tr th:only-of-type {\n",
       "        vertical-align: middle;\n",
       "    }\n",
       "\n",
       "    .dataframe tbody tr th {\n",
       "        vertical-align: top;\n",
       "    }\n",
       "\n",
       "    .dataframe thead th {\n",
       "        text-align: right;\n",
       "    }\n",
       "</style>\n",
       "<table border=\"1\" class=\"dataframe\">\n",
       "  <thead>\n",
       "    <tr style=\"text-align: right;\">\n",
       "      <th></th>\n",
       "      <th>City</th>\n",
       "      <th>State</th>\n",
       "      <th>Song</th>\n",
       "    </tr>\n",
       "  </thead>\n",
       "  <tbody>\n",
       "    <tr>\n",
       "      <th>0</th>\n",
       "      <td>Aberdeen</td>\n",
       "      <td>Maryland</td>\n",
       "      <td>I-95</td>\n",
       "    </tr>\n",
       "    <tr>\n",
       "      <th>1</th>\n",
       "      <td>Abilene</td>\n",
       "      <td>Kansas</td>\n",
       "      <td>Abilene</td>\n",
       "    </tr>\n",
       "    <tr>\n",
       "      <th>2</th>\n",
       "      <td>Abilene</td>\n",
       "      <td>Kansas</td>\n",
       "      <td>Loser</td>\n",
       "    </tr>\n",
       "    <tr>\n",
       "      <th>3</th>\n",
       "      <td>Akron</td>\n",
       "      <td>Ohio</td>\n",
       "      <td>Downtown (Akron)</td>\n",
       "    </tr>\n",
       "    <tr>\n",
       "      <th>4</th>\n",
       "      <td>Akron</td>\n",
       "      <td>Ohio</td>\n",
       "      <td>My City Was Gone</td>\n",
       "    </tr>\n",
       "    <tr>\n",
       "      <th>...</th>\n",
       "      <td>...</td>\n",
       "      <td>...</td>\n",
       "      <td>...</td>\n",
       "    </tr>\n",
       "    <tr>\n",
       "      <th>661</th>\n",
       "      <td>Ypsilanti</td>\n",
       "      <td>Michigan</td>\n",
       "      <td>Born in a Trailer</td>\n",
       "    </tr>\n",
       "    <tr>\n",
       "      <th>662</th>\n",
       "      <td>Ypsilanti</td>\n",
       "      <td>Michigan</td>\n",
       "      <td>For The Widows In Paradise, For The Fatherless...</td>\n",
       "    </tr>\n",
       "    <tr>\n",
       "      <th>663</th>\n",
       "      <td>Ypsilanti</td>\n",
       "      <td>Michigan</td>\n",
       "      <td>Ypsilanti</td>\n",
       "    </tr>\n",
       "    <tr>\n",
       "      <th>664</th>\n",
       "      <td>Ypsilanti</td>\n",
       "      <td>Michigan</td>\n",
       "      <td>Ypsilanti Song</td>\n",
       "    </tr>\n",
       "    <tr>\n",
       "      <th>665</th>\n",
       "      <td>Youngstown</td>\n",
       "      <td>Ohio</td>\n",
       "      <td>Youngstown</td>\n",
       "    </tr>\n",
       "  </tbody>\n",
       "</table>\n",
       "<p>666 rows × 3 columns</p>\n",
       "</div>"
      ]
     },
     "metadata": {},
     "execution_count": 34
    }
   ],
   "metadata": {}
  },
  {
   "cell_type": "code",
   "execution_count": 35,
   "source": [
    "main_dataset['Location Name'] = main_dataset.apply(lambda row: f'{row[\"City\"]}, {row[\"State\"]} United States', axis=1)\n",
    "main_dataset"
   ],
   "outputs": [
    {
     "output_type": "execute_result",
     "data": {
      "text/plain": [
       "           City     State                                               Song  \\\n",
       "0      Aberdeen  Maryland                                               I-95   \n",
       "1       Abilene    Kansas                                            Abilene   \n",
       "2       Abilene    Kansas                                              Loser   \n",
       "3         Akron      Ohio                                   Downtown (Akron)   \n",
       "4         Akron      Ohio                                   My City Was Gone   \n",
       "..          ...       ...                                                ...   \n",
       "661   Ypsilanti  Michigan                                  Born in a Trailer   \n",
       "662   Ypsilanti  Michigan  For The Widows In Paradise, For The Fatherless...   \n",
       "663   Ypsilanti  Michigan                                          Ypsilanti   \n",
       "664   Ypsilanti  Michigan                                     Ypsilanti Song   \n",
       "665  Youngstown      Ohio                                         Youngstown   \n",
       "\n",
       "                         Location Name  \n",
       "0     Aberdeen, Maryland United States  \n",
       "1        Abilene, Kansas United States  \n",
       "2        Abilene, Kansas United States  \n",
       "3            Akron, Ohio United States  \n",
       "4            Akron, Ohio United States  \n",
       "..                                 ...  \n",
       "661  Ypsilanti, Michigan United States  \n",
       "662  Ypsilanti, Michigan United States  \n",
       "663  Ypsilanti, Michigan United States  \n",
       "664  Ypsilanti, Michigan United States  \n",
       "665     Youngstown, Ohio United States  \n",
       "\n",
       "[666 rows x 4 columns]"
      ],
      "text/html": [
       "<div>\n",
       "<style scoped>\n",
       "    .dataframe tbody tr th:only-of-type {\n",
       "        vertical-align: middle;\n",
       "    }\n",
       "\n",
       "    .dataframe tbody tr th {\n",
       "        vertical-align: top;\n",
       "    }\n",
       "\n",
       "    .dataframe thead th {\n",
       "        text-align: right;\n",
       "    }\n",
       "</style>\n",
       "<table border=\"1\" class=\"dataframe\">\n",
       "  <thead>\n",
       "    <tr style=\"text-align: right;\">\n",
       "      <th></th>\n",
       "      <th>City</th>\n",
       "      <th>State</th>\n",
       "      <th>Song</th>\n",
       "      <th>Location Name</th>\n",
       "    </tr>\n",
       "  </thead>\n",
       "  <tbody>\n",
       "    <tr>\n",
       "      <th>0</th>\n",
       "      <td>Aberdeen</td>\n",
       "      <td>Maryland</td>\n",
       "      <td>I-95</td>\n",
       "      <td>Aberdeen, Maryland United States</td>\n",
       "    </tr>\n",
       "    <tr>\n",
       "      <th>1</th>\n",
       "      <td>Abilene</td>\n",
       "      <td>Kansas</td>\n",
       "      <td>Abilene</td>\n",
       "      <td>Abilene, Kansas United States</td>\n",
       "    </tr>\n",
       "    <tr>\n",
       "      <th>2</th>\n",
       "      <td>Abilene</td>\n",
       "      <td>Kansas</td>\n",
       "      <td>Loser</td>\n",
       "      <td>Abilene, Kansas United States</td>\n",
       "    </tr>\n",
       "    <tr>\n",
       "      <th>3</th>\n",
       "      <td>Akron</td>\n",
       "      <td>Ohio</td>\n",
       "      <td>Downtown (Akron)</td>\n",
       "      <td>Akron, Ohio United States</td>\n",
       "    </tr>\n",
       "    <tr>\n",
       "      <th>4</th>\n",
       "      <td>Akron</td>\n",
       "      <td>Ohio</td>\n",
       "      <td>My City Was Gone</td>\n",
       "      <td>Akron, Ohio United States</td>\n",
       "    </tr>\n",
       "    <tr>\n",
       "      <th>...</th>\n",
       "      <td>...</td>\n",
       "      <td>...</td>\n",
       "      <td>...</td>\n",
       "      <td>...</td>\n",
       "    </tr>\n",
       "    <tr>\n",
       "      <th>661</th>\n",
       "      <td>Ypsilanti</td>\n",
       "      <td>Michigan</td>\n",
       "      <td>Born in a Trailer</td>\n",
       "      <td>Ypsilanti, Michigan United States</td>\n",
       "    </tr>\n",
       "    <tr>\n",
       "      <th>662</th>\n",
       "      <td>Ypsilanti</td>\n",
       "      <td>Michigan</td>\n",
       "      <td>For The Widows In Paradise, For The Fatherless...</td>\n",
       "      <td>Ypsilanti, Michigan United States</td>\n",
       "    </tr>\n",
       "    <tr>\n",
       "      <th>663</th>\n",
       "      <td>Ypsilanti</td>\n",
       "      <td>Michigan</td>\n",
       "      <td>Ypsilanti</td>\n",
       "      <td>Ypsilanti, Michigan United States</td>\n",
       "    </tr>\n",
       "    <tr>\n",
       "      <th>664</th>\n",
       "      <td>Ypsilanti</td>\n",
       "      <td>Michigan</td>\n",
       "      <td>Ypsilanti Song</td>\n",
       "      <td>Ypsilanti, Michigan United States</td>\n",
       "    </tr>\n",
       "    <tr>\n",
       "      <th>665</th>\n",
       "      <td>Youngstown</td>\n",
       "      <td>Ohio</td>\n",
       "      <td>Youngstown</td>\n",
       "      <td>Youngstown, Ohio United States</td>\n",
       "    </tr>\n",
       "  </tbody>\n",
       "</table>\n",
       "<p>666 rows × 4 columns</p>\n",
       "</div>"
      ]
     },
     "metadata": {},
     "execution_count": 35
    }
   ],
   "metadata": {}
  },
  {
   "cell_type": "code",
   "execution_count": 36,
   "source": [
    "geocode = RateLimiter(geolocator.geocode, min_delay_seconds=1)\n",
    "\n",
    "main_dataset['Geo Location'] = main_dataset['Location Name'].apply(geocode)\n",
    "\n",
    "main_dataset['lat'] = main_dataset['Geo Location'].apply(lambda loc: loc.latitude if loc else None)\n",
    "main_dataset['long'] = main_dataset['Geo Location'].apply(lambda loc: loc.longitude if loc else None)"
   ],
   "outputs": [
    {
     "output_type": "stream",
     "name": "stderr",
     "text": [
      "RateLimiter caught an error, retrying (0/2 tries). Called with (*('Baton Rouge, Louisiana United States',), **{}).\n",
      "Traceback (most recent call last):\n",
      "  File \"/usr/local/Caskroom/miniforge/base/envs/webscraping/lib/python3.8/urllib/request.py\", line 1354, in do_open\n",
      "    h.request(req.get_method(), req.selector, req.data, headers,\n",
      "  File \"/usr/local/Caskroom/miniforge/base/envs/webscraping/lib/python3.8/http/client.py\", line 1252, in request\n",
      "    self._send_request(method, url, body, headers, encode_chunked)\n",
      "  File \"/usr/local/Caskroom/miniforge/base/envs/webscraping/lib/python3.8/http/client.py\", line 1298, in _send_request\n",
      "    self.endheaders(body, encode_chunked=encode_chunked)\n",
      "  File \"/usr/local/Caskroom/miniforge/base/envs/webscraping/lib/python3.8/http/client.py\", line 1247, in endheaders\n",
      "    self._send_output(message_body, encode_chunked=encode_chunked)\n",
      "  File \"/usr/local/Caskroom/miniforge/base/envs/webscraping/lib/python3.8/http/client.py\", line 1007, in _send_output\n",
      "    self.send(msg)\n",
      "  File \"/usr/local/Caskroom/miniforge/base/envs/webscraping/lib/python3.8/http/client.py\", line 947, in send\n",
      "    self.connect()\n",
      "  File \"/usr/local/Caskroom/miniforge/base/envs/webscraping/lib/python3.8/http/client.py\", line 1414, in connect\n",
      "    super().connect()\n",
      "  File \"/usr/local/Caskroom/miniforge/base/envs/webscraping/lib/python3.8/http/client.py\", line 918, in connect\n",
      "    self.sock = self._create_connection(\n",
      "  File \"/usr/local/Caskroom/miniforge/base/envs/webscraping/lib/python3.8/socket.py\", line 808, in create_connection\n",
      "    raise err\n",
      "  File \"/usr/local/Caskroom/miniforge/base/envs/webscraping/lib/python3.8/socket.py\", line 796, in create_connection\n",
      "    sock.connect(sa)\n",
      "socket.timeout: timed out\n",
      "\n",
      "During handling of the above exception, another exception occurred:\n",
      "\n",
      "Traceback (most recent call last):\n",
      "  File \"/usr/local/Caskroom/miniforge/base/envs/webscraping/lib/python3.8/site-packages/geopy/adapters.py\", line 297, in get_text\n",
      "    page = self.urlopen(req, timeout=timeout)\n",
      "  File \"/usr/local/Caskroom/miniforge/base/envs/webscraping/lib/python3.8/urllib/request.py\", line 525, in open\n",
      "    response = self._open(req, data)\n",
      "  File \"/usr/local/Caskroom/miniforge/base/envs/webscraping/lib/python3.8/urllib/request.py\", line 542, in _open\n",
      "    result = self._call_chain(self.handle_open, protocol, protocol +\n",
      "  File \"/usr/local/Caskroom/miniforge/base/envs/webscraping/lib/python3.8/urllib/request.py\", line 502, in _call_chain\n",
      "    result = func(*args)\n",
      "  File \"/usr/local/Caskroom/miniforge/base/envs/webscraping/lib/python3.8/urllib/request.py\", line 1397, in https_open\n",
      "    return self.do_open(http.client.HTTPSConnection, req,\n",
      "  File \"/usr/local/Caskroom/miniforge/base/envs/webscraping/lib/python3.8/urllib/request.py\", line 1357, in do_open\n",
      "    raise URLError(err)\n",
      "urllib.error.URLError: <urlopen error timed out>\n",
      "\n",
      "During handling of the above exception, another exception occurred:\n",
      "\n",
      "Traceback (most recent call last):\n",
      "  File \"/usr/local/Caskroom/miniforge/base/envs/webscraping/lib/python3.8/site-packages/geopy/extra/rate_limiter.py\", line 136, in _retries_gen\n",
      "    yield i  # Run the function.\n",
      "  File \"/usr/local/Caskroom/miniforge/base/envs/webscraping/lib/python3.8/site-packages/geopy/extra/rate_limiter.py\", line 274, in __call__\n",
      "    res = self.func(*args, **kwargs)\n",
      "  File \"/usr/local/Caskroom/miniforge/base/envs/webscraping/lib/python3.8/site-packages/geopy/geocoders/nominatim.py\", line 297, in geocode\n",
      "    return self._call_geocoder(url, callback, timeout=timeout)\n",
      "  File \"/usr/local/Caskroom/miniforge/base/envs/webscraping/lib/python3.8/site-packages/geopy/geocoders/base.py\", line 368, in _call_geocoder\n",
      "    result = self.adapter.get_json(url, timeout=timeout, headers=req_headers)\n",
      "  File \"/usr/local/Caskroom/miniforge/base/envs/webscraping/lib/python3.8/site-packages/geopy/adapters.py\", line 286, in get_json\n",
      "    text = self.get_text(url, timeout=timeout, headers=headers)\n",
      "  File \"/usr/local/Caskroom/miniforge/base/envs/webscraping/lib/python3.8/site-packages/geopy/adapters.py\", line 315, in get_text\n",
      "    raise GeocoderTimedOut(\"Service timed out\")\n",
      "geopy.exc.GeocoderTimedOut: Service timed out\n",
      "RateLimiter caught an error, retrying (0/2 tries). Called with (*('Buffalo, New York United States',), **{}).\n",
      "Traceback (most recent call last):\n",
      "  File \"/usr/local/Caskroom/miniforge/base/envs/webscraping/lib/python3.8/urllib/request.py\", line 1354, in do_open\n",
      "    h.request(req.get_method(), req.selector, req.data, headers,\n",
      "  File \"/usr/local/Caskroom/miniforge/base/envs/webscraping/lib/python3.8/http/client.py\", line 1252, in request\n",
      "    self._send_request(method, url, body, headers, encode_chunked)\n",
      "  File \"/usr/local/Caskroom/miniforge/base/envs/webscraping/lib/python3.8/http/client.py\", line 1298, in _send_request\n",
      "    self.endheaders(body, encode_chunked=encode_chunked)\n",
      "  File \"/usr/local/Caskroom/miniforge/base/envs/webscraping/lib/python3.8/http/client.py\", line 1247, in endheaders\n",
      "    self._send_output(message_body, encode_chunked=encode_chunked)\n",
      "  File \"/usr/local/Caskroom/miniforge/base/envs/webscraping/lib/python3.8/http/client.py\", line 1007, in _send_output\n",
      "    self.send(msg)\n",
      "  File \"/usr/local/Caskroom/miniforge/base/envs/webscraping/lib/python3.8/http/client.py\", line 947, in send\n",
      "    self.connect()\n",
      "  File \"/usr/local/Caskroom/miniforge/base/envs/webscraping/lib/python3.8/http/client.py\", line 1414, in connect\n",
      "    super().connect()\n",
      "  File \"/usr/local/Caskroom/miniforge/base/envs/webscraping/lib/python3.8/http/client.py\", line 918, in connect\n",
      "    self.sock = self._create_connection(\n",
      "  File \"/usr/local/Caskroom/miniforge/base/envs/webscraping/lib/python3.8/socket.py\", line 808, in create_connection\n",
      "    raise err\n",
      "  File \"/usr/local/Caskroom/miniforge/base/envs/webscraping/lib/python3.8/socket.py\", line 796, in create_connection\n",
      "    sock.connect(sa)\n",
      "socket.timeout: timed out\n",
      "\n",
      "During handling of the above exception, another exception occurred:\n",
      "\n",
      "Traceback (most recent call last):\n",
      "  File \"/usr/local/Caskroom/miniforge/base/envs/webscraping/lib/python3.8/site-packages/geopy/adapters.py\", line 297, in get_text\n",
      "    page = self.urlopen(req, timeout=timeout)\n",
      "  File \"/usr/local/Caskroom/miniforge/base/envs/webscraping/lib/python3.8/urllib/request.py\", line 525, in open\n",
      "    response = self._open(req, data)\n",
      "  File \"/usr/local/Caskroom/miniforge/base/envs/webscraping/lib/python3.8/urllib/request.py\", line 542, in _open\n",
      "    result = self._call_chain(self.handle_open, protocol, protocol +\n",
      "  File \"/usr/local/Caskroom/miniforge/base/envs/webscraping/lib/python3.8/urllib/request.py\", line 502, in _call_chain\n",
      "    result = func(*args)\n",
      "  File \"/usr/local/Caskroom/miniforge/base/envs/webscraping/lib/python3.8/urllib/request.py\", line 1397, in https_open\n",
      "    return self.do_open(http.client.HTTPSConnection, req,\n",
      "  File \"/usr/local/Caskroom/miniforge/base/envs/webscraping/lib/python3.8/urllib/request.py\", line 1357, in do_open\n",
      "    raise URLError(err)\n",
      "urllib.error.URLError: <urlopen error timed out>\n",
      "\n",
      "During handling of the above exception, another exception occurred:\n",
      "\n",
      "Traceback (most recent call last):\n",
      "  File \"/usr/local/Caskroom/miniforge/base/envs/webscraping/lib/python3.8/site-packages/geopy/extra/rate_limiter.py\", line 136, in _retries_gen\n",
      "    yield i  # Run the function.\n",
      "  File \"/usr/local/Caskroom/miniforge/base/envs/webscraping/lib/python3.8/site-packages/geopy/extra/rate_limiter.py\", line 274, in __call__\n",
      "    res = self.func(*args, **kwargs)\n",
      "  File \"/usr/local/Caskroom/miniforge/base/envs/webscraping/lib/python3.8/site-packages/geopy/geocoders/nominatim.py\", line 297, in geocode\n",
      "    return self._call_geocoder(url, callback, timeout=timeout)\n",
      "  File \"/usr/local/Caskroom/miniforge/base/envs/webscraping/lib/python3.8/site-packages/geopy/geocoders/base.py\", line 368, in _call_geocoder\n",
      "    result = self.adapter.get_json(url, timeout=timeout, headers=req_headers)\n",
      "  File \"/usr/local/Caskroom/miniforge/base/envs/webscraping/lib/python3.8/site-packages/geopy/adapters.py\", line 286, in get_json\n",
      "    text = self.get_text(url, timeout=timeout, headers=headers)\n",
      "  File \"/usr/local/Caskroom/miniforge/base/envs/webscraping/lib/python3.8/site-packages/geopy/adapters.py\", line 315, in get_text\n",
      "    raise GeocoderTimedOut(\"Service timed out\")\n",
      "geopy.exc.GeocoderTimedOut: Service timed out\n",
      "RateLimiter caught an error, retrying (0/2 tries). Called with (*('Cheyenne, Wyoming United States',), **{}).\n",
      "Traceback (most recent call last):\n",
      "  File \"/usr/local/Caskroom/miniforge/base/envs/webscraping/lib/python3.8/urllib/request.py\", line 1354, in do_open\n",
      "    h.request(req.get_method(), req.selector, req.data, headers,\n",
      "  File \"/usr/local/Caskroom/miniforge/base/envs/webscraping/lib/python3.8/http/client.py\", line 1252, in request\n",
      "    self._send_request(method, url, body, headers, encode_chunked)\n",
      "  File \"/usr/local/Caskroom/miniforge/base/envs/webscraping/lib/python3.8/http/client.py\", line 1298, in _send_request\n",
      "    self.endheaders(body, encode_chunked=encode_chunked)\n",
      "  File \"/usr/local/Caskroom/miniforge/base/envs/webscraping/lib/python3.8/http/client.py\", line 1247, in endheaders\n",
      "    self._send_output(message_body, encode_chunked=encode_chunked)\n",
      "  File \"/usr/local/Caskroom/miniforge/base/envs/webscraping/lib/python3.8/http/client.py\", line 1007, in _send_output\n",
      "    self.send(msg)\n",
      "  File \"/usr/local/Caskroom/miniforge/base/envs/webscraping/lib/python3.8/http/client.py\", line 947, in send\n",
      "    self.connect()\n",
      "  File \"/usr/local/Caskroom/miniforge/base/envs/webscraping/lib/python3.8/http/client.py\", line 1414, in connect\n",
      "    super().connect()\n",
      "  File \"/usr/local/Caskroom/miniforge/base/envs/webscraping/lib/python3.8/http/client.py\", line 918, in connect\n",
      "    self.sock = self._create_connection(\n",
      "  File \"/usr/local/Caskroom/miniforge/base/envs/webscraping/lib/python3.8/socket.py\", line 808, in create_connection\n",
      "    raise err\n",
      "  File \"/usr/local/Caskroom/miniforge/base/envs/webscraping/lib/python3.8/socket.py\", line 796, in create_connection\n",
      "    sock.connect(sa)\n",
      "socket.timeout: timed out\n",
      "\n",
      "During handling of the above exception, another exception occurred:\n",
      "\n",
      "Traceback (most recent call last):\n",
      "  File \"/usr/local/Caskroom/miniforge/base/envs/webscraping/lib/python3.8/site-packages/geopy/adapters.py\", line 297, in get_text\n",
      "    page = self.urlopen(req, timeout=timeout)\n",
      "  File \"/usr/local/Caskroom/miniforge/base/envs/webscraping/lib/python3.8/urllib/request.py\", line 525, in open\n",
      "    response = self._open(req, data)\n",
      "  File \"/usr/local/Caskroom/miniforge/base/envs/webscraping/lib/python3.8/urllib/request.py\", line 542, in _open\n",
      "    result = self._call_chain(self.handle_open, protocol, protocol +\n",
      "  File \"/usr/local/Caskroom/miniforge/base/envs/webscraping/lib/python3.8/urllib/request.py\", line 502, in _call_chain\n",
      "    result = func(*args)\n",
      "  File \"/usr/local/Caskroom/miniforge/base/envs/webscraping/lib/python3.8/urllib/request.py\", line 1397, in https_open\n",
      "    return self.do_open(http.client.HTTPSConnection, req,\n",
      "  File \"/usr/local/Caskroom/miniforge/base/envs/webscraping/lib/python3.8/urllib/request.py\", line 1357, in do_open\n",
      "    raise URLError(err)\n",
      "urllib.error.URLError: <urlopen error timed out>\n",
      "\n",
      "During handling of the above exception, another exception occurred:\n",
      "\n",
      "Traceback (most recent call last):\n",
      "  File \"/usr/local/Caskroom/miniforge/base/envs/webscraping/lib/python3.8/site-packages/geopy/extra/rate_limiter.py\", line 136, in _retries_gen\n",
      "    yield i  # Run the function.\n",
      "  File \"/usr/local/Caskroom/miniforge/base/envs/webscraping/lib/python3.8/site-packages/geopy/extra/rate_limiter.py\", line 274, in __call__\n",
      "    res = self.func(*args, **kwargs)\n",
      "  File \"/usr/local/Caskroom/miniforge/base/envs/webscraping/lib/python3.8/site-packages/geopy/geocoders/nominatim.py\", line 297, in geocode\n",
      "    return self._call_geocoder(url, callback, timeout=timeout)\n",
      "  File \"/usr/local/Caskroom/miniforge/base/envs/webscraping/lib/python3.8/site-packages/geopy/geocoders/base.py\", line 368, in _call_geocoder\n",
      "    result = self.adapter.get_json(url, timeout=timeout, headers=req_headers)\n",
      "  File \"/usr/local/Caskroom/miniforge/base/envs/webscraping/lib/python3.8/site-packages/geopy/adapters.py\", line 286, in get_json\n",
      "    text = self.get_text(url, timeout=timeout, headers=headers)\n",
      "  File \"/usr/local/Caskroom/miniforge/base/envs/webscraping/lib/python3.8/site-packages/geopy/adapters.py\", line 315, in get_text\n",
      "    raise GeocoderTimedOut(\"Service timed out\")\n",
      "geopy.exc.GeocoderTimedOut: Service timed out\n",
      "RateLimiter caught an error, retrying (0/2 tries). Called with (*('Indianapolis, Indiana United States',), **{}).\n",
      "Traceback (most recent call last):\n",
      "  File \"/usr/local/Caskroom/miniforge/base/envs/webscraping/lib/python3.8/urllib/request.py\", line 1354, in do_open\n",
      "    h.request(req.get_method(), req.selector, req.data, headers,\n",
      "  File \"/usr/local/Caskroom/miniforge/base/envs/webscraping/lib/python3.8/http/client.py\", line 1252, in request\n",
      "    self._send_request(method, url, body, headers, encode_chunked)\n",
      "  File \"/usr/local/Caskroom/miniforge/base/envs/webscraping/lib/python3.8/http/client.py\", line 1298, in _send_request\n",
      "    self.endheaders(body, encode_chunked=encode_chunked)\n",
      "  File \"/usr/local/Caskroom/miniforge/base/envs/webscraping/lib/python3.8/http/client.py\", line 1247, in endheaders\n",
      "    self._send_output(message_body, encode_chunked=encode_chunked)\n",
      "  File \"/usr/local/Caskroom/miniforge/base/envs/webscraping/lib/python3.8/http/client.py\", line 1007, in _send_output\n",
      "    self.send(msg)\n",
      "  File \"/usr/local/Caskroom/miniforge/base/envs/webscraping/lib/python3.8/http/client.py\", line 947, in send\n",
      "    self.connect()\n",
      "  File \"/usr/local/Caskroom/miniforge/base/envs/webscraping/lib/python3.8/http/client.py\", line 1414, in connect\n",
      "    super().connect()\n",
      "  File \"/usr/local/Caskroom/miniforge/base/envs/webscraping/lib/python3.8/http/client.py\", line 918, in connect\n",
      "    self.sock = self._create_connection(\n",
      "  File \"/usr/local/Caskroom/miniforge/base/envs/webscraping/lib/python3.8/socket.py\", line 808, in create_connection\n",
      "    raise err\n",
      "  File \"/usr/local/Caskroom/miniforge/base/envs/webscraping/lib/python3.8/socket.py\", line 796, in create_connection\n",
      "    sock.connect(sa)\n",
      "socket.timeout: timed out\n",
      "\n",
      "During handling of the above exception, another exception occurred:\n",
      "\n",
      "Traceback (most recent call last):\n",
      "  File \"/usr/local/Caskroom/miniforge/base/envs/webscraping/lib/python3.8/site-packages/geopy/adapters.py\", line 297, in get_text\n",
      "    page = self.urlopen(req, timeout=timeout)\n",
      "  File \"/usr/local/Caskroom/miniforge/base/envs/webscraping/lib/python3.8/urllib/request.py\", line 525, in open\n",
      "    response = self._open(req, data)\n",
      "  File \"/usr/local/Caskroom/miniforge/base/envs/webscraping/lib/python3.8/urllib/request.py\", line 542, in _open\n",
      "    result = self._call_chain(self.handle_open, protocol, protocol +\n",
      "  File \"/usr/local/Caskroom/miniforge/base/envs/webscraping/lib/python3.8/urllib/request.py\", line 502, in _call_chain\n",
      "    result = func(*args)\n",
      "  File \"/usr/local/Caskroom/miniforge/base/envs/webscraping/lib/python3.8/urllib/request.py\", line 1397, in https_open\n",
      "    return self.do_open(http.client.HTTPSConnection, req,\n",
      "  File \"/usr/local/Caskroom/miniforge/base/envs/webscraping/lib/python3.8/urllib/request.py\", line 1357, in do_open\n",
      "    raise URLError(err)\n",
      "urllib.error.URLError: <urlopen error timed out>\n",
      "\n",
      "During handling of the above exception, another exception occurred:\n",
      "\n",
      "Traceback (most recent call last):\n",
      "  File \"/usr/local/Caskroom/miniforge/base/envs/webscraping/lib/python3.8/site-packages/geopy/extra/rate_limiter.py\", line 136, in _retries_gen\n",
      "    yield i  # Run the function.\n",
      "  File \"/usr/local/Caskroom/miniforge/base/envs/webscraping/lib/python3.8/site-packages/geopy/extra/rate_limiter.py\", line 274, in __call__\n",
      "    res = self.func(*args, **kwargs)\n",
      "  File \"/usr/local/Caskroom/miniforge/base/envs/webscraping/lib/python3.8/site-packages/geopy/geocoders/nominatim.py\", line 297, in geocode\n",
      "    return self._call_geocoder(url, callback, timeout=timeout)\n",
      "  File \"/usr/local/Caskroom/miniforge/base/envs/webscraping/lib/python3.8/site-packages/geopy/geocoders/base.py\", line 368, in _call_geocoder\n",
      "    result = self.adapter.get_json(url, timeout=timeout, headers=req_headers)\n",
      "  File \"/usr/local/Caskroom/miniforge/base/envs/webscraping/lib/python3.8/site-packages/geopy/adapters.py\", line 286, in get_json\n",
      "    text = self.get_text(url, timeout=timeout, headers=headers)\n",
      "  File \"/usr/local/Caskroom/miniforge/base/envs/webscraping/lib/python3.8/site-packages/geopy/adapters.py\", line 315, in get_text\n",
      "    raise GeocoderTimedOut(\"Service timed out\")\n",
      "geopy.exc.GeocoderTimedOut: Service timed out\n"
     ]
    }
   ],
   "metadata": {}
  },
  {
   "cell_type": "markdown",
   "source": [
    "Removing unused columns for easier merge"
   ],
   "metadata": {}
  },
  {
   "cell_type": "code",
   "execution_count": 42,
   "source": [
    "main_dataset.info()"
   ],
   "outputs": [
    {
     "output_type": "execute_result",
     "data": {
      "text/plain": [
       "           City     State                                               Song  \\\n",
       "0      Aberdeen  Maryland                                               I-95   \n",
       "1       Abilene    Kansas                                            Abilene   \n",
       "2       Abilene    Kansas                                              Loser   \n",
       "3         Akron      Ohio                                   Downtown (Akron)   \n",
       "4         Akron      Ohio                                   My City Was Gone   \n",
       "..          ...       ...                                                ...   \n",
       "661   Ypsilanti  Michigan                                  Born in a Trailer   \n",
       "662   Ypsilanti  Michigan  For The Widows In Paradise, For The Fatherless...   \n",
       "663   Ypsilanti  Michigan                                          Ypsilanti   \n",
       "664   Ypsilanti  Michigan                                     Ypsilanti Song   \n",
       "665  Youngstown      Ohio                                         Youngstown   \n",
       "\n",
       "           lat       long  \n",
       "0    39.509556 -76.164120  \n",
       "1    38.917252 -97.213770  \n",
       "2    38.917252 -97.213770  \n",
       "3    41.083064 -81.518485  \n",
       "4    41.083064 -81.518485  \n",
       "..         ...        ...  \n",
       "661  42.241056 -83.613055  \n",
       "662  42.241056 -83.613055  \n",
       "663  42.241056 -83.613055  \n",
       "664  42.241056 -83.613055  \n",
       "665  41.103579 -80.652016  \n",
       "\n",
       "[666 rows x 5 columns]"
      ],
      "text/html": [
       "<div>\n",
       "<style scoped>\n",
       "    .dataframe tbody tr th:only-of-type {\n",
       "        vertical-align: middle;\n",
       "    }\n",
       "\n",
       "    .dataframe tbody tr th {\n",
       "        vertical-align: top;\n",
       "    }\n",
       "\n",
       "    .dataframe thead th {\n",
       "        text-align: right;\n",
       "    }\n",
       "</style>\n",
       "<table border=\"1\" class=\"dataframe\">\n",
       "  <thead>\n",
       "    <tr style=\"text-align: right;\">\n",
       "      <th></th>\n",
       "      <th>City</th>\n",
       "      <th>State</th>\n",
       "      <th>Song</th>\n",
       "      <th>lat</th>\n",
       "      <th>long</th>\n",
       "    </tr>\n",
       "  </thead>\n",
       "  <tbody>\n",
       "    <tr>\n",
       "      <th>0</th>\n",
       "      <td>Aberdeen</td>\n",
       "      <td>Maryland</td>\n",
       "      <td>I-95</td>\n",
       "      <td>39.509556</td>\n",
       "      <td>-76.164120</td>\n",
       "    </tr>\n",
       "    <tr>\n",
       "      <th>1</th>\n",
       "      <td>Abilene</td>\n",
       "      <td>Kansas</td>\n",
       "      <td>Abilene</td>\n",
       "      <td>38.917252</td>\n",
       "      <td>-97.213770</td>\n",
       "    </tr>\n",
       "    <tr>\n",
       "      <th>2</th>\n",
       "      <td>Abilene</td>\n",
       "      <td>Kansas</td>\n",
       "      <td>Loser</td>\n",
       "      <td>38.917252</td>\n",
       "      <td>-97.213770</td>\n",
       "    </tr>\n",
       "    <tr>\n",
       "      <th>3</th>\n",
       "      <td>Akron</td>\n",
       "      <td>Ohio</td>\n",
       "      <td>Downtown (Akron)</td>\n",
       "      <td>41.083064</td>\n",
       "      <td>-81.518485</td>\n",
       "    </tr>\n",
       "    <tr>\n",
       "      <th>4</th>\n",
       "      <td>Akron</td>\n",
       "      <td>Ohio</td>\n",
       "      <td>My City Was Gone</td>\n",
       "      <td>41.083064</td>\n",
       "      <td>-81.518485</td>\n",
       "    </tr>\n",
       "    <tr>\n",
       "      <th>...</th>\n",
       "      <td>...</td>\n",
       "      <td>...</td>\n",
       "      <td>...</td>\n",
       "      <td>...</td>\n",
       "      <td>...</td>\n",
       "    </tr>\n",
       "    <tr>\n",
       "      <th>661</th>\n",
       "      <td>Ypsilanti</td>\n",
       "      <td>Michigan</td>\n",
       "      <td>Born in a Trailer</td>\n",
       "      <td>42.241056</td>\n",
       "      <td>-83.613055</td>\n",
       "    </tr>\n",
       "    <tr>\n",
       "      <th>662</th>\n",
       "      <td>Ypsilanti</td>\n",
       "      <td>Michigan</td>\n",
       "      <td>For The Widows In Paradise, For The Fatherless...</td>\n",
       "      <td>42.241056</td>\n",
       "      <td>-83.613055</td>\n",
       "    </tr>\n",
       "    <tr>\n",
       "      <th>663</th>\n",
       "      <td>Ypsilanti</td>\n",
       "      <td>Michigan</td>\n",
       "      <td>Ypsilanti</td>\n",
       "      <td>42.241056</td>\n",
       "      <td>-83.613055</td>\n",
       "    </tr>\n",
       "    <tr>\n",
       "      <th>664</th>\n",
       "      <td>Ypsilanti</td>\n",
       "      <td>Michigan</td>\n",
       "      <td>Ypsilanti Song</td>\n",
       "      <td>42.241056</td>\n",
       "      <td>-83.613055</td>\n",
       "    </tr>\n",
       "    <tr>\n",
       "      <th>665</th>\n",
       "      <td>Youngstown</td>\n",
       "      <td>Ohio</td>\n",
       "      <td>Youngstown</td>\n",
       "      <td>41.103579</td>\n",
       "      <td>-80.652016</td>\n",
       "    </tr>\n",
       "  </tbody>\n",
       "</table>\n",
       "<p>666 rows × 5 columns</p>\n",
       "</div>"
      ]
     },
     "metadata": {},
     "execution_count": 42
    }
   ],
   "metadata": {}
  },
  {
   "cell_type": "code",
   "execution_count": 41,
   "source": [
    "\n",
    "main_dataset.drop(['Location Name','Geo Location'], axis=1, inplace=True)\n",
    "\n",
    "main_dataset"
   ],
   "outputs": [
    {
     "output_type": "error",
     "ename": "KeyError",
     "evalue": "\"['Location Name' 'Geo Location'] not found in axis\"",
     "traceback": [
      "\u001b[0;31m---------------------------------------------------------------------------\u001b[0m",
      "\u001b[0;31mKeyError\u001b[0m                                  Traceback (most recent call last)",
      "\u001b[0;32m/var/folders/t2/j3bx78_j1bsgnlkbgvc0kxtr0000gn/T/ipykernel_5711/2711835588.py\u001b[0m in \u001b[0;36m<module>\u001b[0;34m\u001b[0m\n\u001b[0;32m----> 1\u001b[0;31m \u001b[0mmain_dataset\u001b[0m\u001b[0;34m.\u001b[0m\u001b[0mdrop\u001b[0m\u001b[0;34m(\u001b[0m\u001b[0;34m[\u001b[0m\u001b[0;34m'Location Name'\u001b[0m\u001b[0;34m,\u001b[0m\u001b[0;34m'Geo Location'\u001b[0m\u001b[0;34m]\u001b[0m\u001b[0;34m,\u001b[0m \u001b[0maxis\u001b[0m\u001b[0;34m=\u001b[0m\u001b[0;36m1\u001b[0m\u001b[0;34m,\u001b[0m \u001b[0minplace\u001b[0m\u001b[0;34m=\u001b[0m\u001b[0;32mTrue\u001b[0m\u001b[0;34m)\u001b[0m\u001b[0;34m\u001b[0m\u001b[0;34m\u001b[0m\u001b[0m\n\u001b[0m\u001b[1;32m      2\u001b[0m \u001b[0;34m\u001b[0m\u001b[0m\n\u001b[1;32m      3\u001b[0m \u001b[0mmain_dataset\u001b[0m\u001b[0;34m\u001b[0m\u001b[0;34m\u001b[0m\u001b[0m\n",
      "\u001b[0;32m/usr/local/Caskroom/miniforge/base/envs/webscraping/lib/python3.8/site-packages/pandas/util/_decorators.py\u001b[0m in \u001b[0;36mwrapper\u001b[0;34m(*args, **kwargs)\u001b[0m\n\u001b[1;32m    309\u001b[0m                     \u001b[0mstacklevel\u001b[0m\u001b[0;34m=\u001b[0m\u001b[0mstacklevel\u001b[0m\u001b[0;34m,\u001b[0m\u001b[0;34m\u001b[0m\u001b[0;34m\u001b[0m\u001b[0m\n\u001b[1;32m    310\u001b[0m                 )\n\u001b[0;32m--> 311\u001b[0;31m             \u001b[0;32mreturn\u001b[0m \u001b[0mfunc\u001b[0m\u001b[0;34m(\u001b[0m\u001b[0;34m*\u001b[0m\u001b[0margs\u001b[0m\u001b[0;34m,\u001b[0m \u001b[0;34m**\u001b[0m\u001b[0mkwargs\u001b[0m\u001b[0;34m)\u001b[0m\u001b[0;34m\u001b[0m\u001b[0;34m\u001b[0m\u001b[0m\n\u001b[0m\u001b[1;32m    312\u001b[0m \u001b[0;34m\u001b[0m\u001b[0m\n\u001b[1;32m    313\u001b[0m         \u001b[0;32mreturn\u001b[0m \u001b[0mwrapper\u001b[0m\u001b[0;34m\u001b[0m\u001b[0;34m\u001b[0m\u001b[0m\n",
      "\u001b[0;32m/usr/local/Caskroom/miniforge/base/envs/webscraping/lib/python3.8/site-packages/pandas/core/frame.py\u001b[0m in \u001b[0;36mdrop\u001b[0;34m(self, labels, axis, index, columns, level, inplace, errors)\u001b[0m\n\u001b[1;32m   4899\u001b[0m                 \u001b[0mweight\u001b[0m  \u001b[0;36m1.0\u001b[0m     \u001b[0;36m0.8\u001b[0m\u001b[0;34m\u001b[0m\u001b[0;34m\u001b[0m\u001b[0m\n\u001b[1;32m   4900\u001b[0m         \"\"\"\n\u001b[0;32m-> 4901\u001b[0;31m         return super().drop(\n\u001b[0m\u001b[1;32m   4902\u001b[0m             \u001b[0mlabels\u001b[0m\u001b[0;34m=\u001b[0m\u001b[0mlabels\u001b[0m\u001b[0;34m,\u001b[0m\u001b[0;34m\u001b[0m\u001b[0;34m\u001b[0m\u001b[0m\n\u001b[1;32m   4903\u001b[0m             \u001b[0maxis\u001b[0m\u001b[0;34m=\u001b[0m\u001b[0maxis\u001b[0m\u001b[0;34m,\u001b[0m\u001b[0;34m\u001b[0m\u001b[0;34m\u001b[0m\u001b[0m\n",
      "\u001b[0;32m/usr/local/Caskroom/miniforge/base/envs/webscraping/lib/python3.8/site-packages/pandas/core/generic.py\u001b[0m in \u001b[0;36mdrop\u001b[0;34m(self, labels, axis, index, columns, level, inplace, errors)\u001b[0m\n\u001b[1;32m   4145\u001b[0m         \u001b[0;32mfor\u001b[0m \u001b[0maxis\u001b[0m\u001b[0;34m,\u001b[0m \u001b[0mlabels\u001b[0m \u001b[0;32min\u001b[0m \u001b[0maxes\u001b[0m\u001b[0;34m.\u001b[0m\u001b[0mitems\u001b[0m\u001b[0;34m(\u001b[0m\u001b[0;34m)\u001b[0m\u001b[0;34m:\u001b[0m\u001b[0;34m\u001b[0m\u001b[0;34m\u001b[0m\u001b[0m\n\u001b[1;32m   4146\u001b[0m             \u001b[0;32mif\u001b[0m \u001b[0mlabels\u001b[0m \u001b[0;32mis\u001b[0m \u001b[0;32mnot\u001b[0m \u001b[0;32mNone\u001b[0m\u001b[0;34m:\u001b[0m\u001b[0;34m\u001b[0m\u001b[0;34m\u001b[0m\u001b[0m\n\u001b[0;32m-> 4147\u001b[0;31m                 \u001b[0mobj\u001b[0m \u001b[0;34m=\u001b[0m \u001b[0mobj\u001b[0m\u001b[0;34m.\u001b[0m\u001b[0m_drop_axis\u001b[0m\u001b[0;34m(\u001b[0m\u001b[0mlabels\u001b[0m\u001b[0;34m,\u001b[0m \u001b[0maxis\u001b[0m\u001b[0;34m,\u001b[0m \u001b[0mlevel\u001b[0m\u001b[0;34m=\u001b[0m\u001b[0mlevel\u001b[0m\u001b[0;34m,\u001b[0m \u001b[0merrors\u001b[0m\u001b[0;34m=\u001b[0m\u001b[0merrors\u001b[0m\u001b[0;34m)\u001b[0m\u001b[0;34m\u001b[0m\u001b[0;34m\u001b[0m\u001b[0m\n\u001b[0m\u001b[1;32m   4148\u001b[0m \u001b[0;34m\u001b[0m\u001b[0m\n\u001b[1;32m   4149\u001b[0m         \u001b[0;32mif\u001b[0m \u001b[0minplace\u001b[0m\u001b[0;34m:\u001b[0m\u001b[0;34m\u001b[0m\u001b[0;34m\u001b[0m\u001b[0m\n",
      "\u001b[0;32m/usr/local/Caskroom/miniforge/base/envs/webscraping/lib/python3.8/site-packages/pandas/core/generic.py\u001b[0m in \u001b[0;36m_drop_axis\u001b[0;34m(self, labels, axis, level, errors)\u001b[0m\n\u001b[1;32m   4180\u001b[0m                 \u001b[0mnew_axis\u001b[0m \u001b[0;34m=\u001b[0m \u001b[0maxis\u001b[0m\u001b[0;34m.\u001b[0m\u001b[0mdrop\u001b[0m\u001b[0;34m(\u001b[0m\u001b[0mlabels\u001b[0m\u001b[0;34m,\u001b[0m \u001b[0mlevel\u001b[0m\u001b[0;34m=\u001b[0m\u001b[0mlevel\u001b[0m\u001b[0;34m,\u001b[0m \u001b[0merrors\u001b[0m\u001b[0;34m=\u001b[0m\u001b[0merrors\u001b[0m\u001b[0;34m)\u001b[0m\u001b[0;34m\u001b[0m\u001b[0;34m\u001b[0m\u001b[0m\n\u001b[1;32m   4181\u001b[0m             \u001b[0;32melse\u001b[0m\u001b[0;34m:\u001b[0m\u001b[0;34m\u001b[0m\u001b[0;34m\u001b[0m\u001b[0m\n\u001b[0;32m-> 4182\u001b[0;31m                 \u001b[0mnew_axis\u001b[0m \u001b[0;34m=\u001b[0m \u001b[0maxis\u001b[0m\u001b[0;34m.\u001b[0m\u001b[0mdrop\u001b[0m\u001b[0;34m(\u001b[0m\u001b[0mlabels\u001b[0m\u001b[0;34m,\u001b[0m \u001b[0merrors\u001b[0m\u001b[0;34m=\u001b[0m\u001b[0merrors\u001b[0m\u001b[0;34m)\u001b[0m\u001b[0;34m\u001b[0m\u001b[0;34m\u001b[0m\u001b[0m\n\u001b[0m\u001b[1;32m   4183\u001b[0m             \u001b[0mresult\u001b[0m \u001b[0;34m=\u001b[0m \u001b[0mself\u001b[0m\u001b[0;34m.\u001b[0m\u001b[0mreindex\u001b[0m\u001b[0;34m(\u001b[0m\u001b[0;34m**\u001b[0m\u001b[0;34m{\u001b[0m\u001b[0maxis_name\u001b[0m\u001b[0;34m:\u001b[0m \u001b[0mnew_axis\u001b[0m\u001b[0;34m}\u001b[0m\u001b[0;34m)\u001b[0m\u001b[0;34m\u001b[0m\u001b[0;34m\u001b[0m\u001b[0m\n\u001b[1;32m   4184\u001b[0m \u001b[0;34m\u001b[0m\u001b[0m\n",
      "\u001b[0;32m/usr/local/Caskroom/miniforge/base/envs/webscraping/lib/python3.8/site-packages/pandas/core/indexes/base.py\u001b[0m in \u001b[0;36mdrop\u001b[0;34m(self, labels, errors)\u001b[0m\n\u001b[1;32m   6016\u001b[0m         \u001b[0;32mif\u001b[0m \u001b[0mmask\u001b[0m\u001b[0;34m.\u001b[0m\u001b[0many\u001b[0m\u001b[0;34m(\u001b[0m\u001b[0;34m)\u001b[0m\u001b[0;34m:\u001b[0m\u001b[0;34m\u001b[0m\u001b[0;34m\u001b[0m\u001b[0m\n\u001b[1;32m   6017\u001b[0m             \u001b[0;32mif\u001b[0m \u001b[0merrors\u001b[0m \u001b[0;34m!=\u001b[0m \u001b[0;34m\"ignore\"\u001b[0m\u001b[0;34m:\u001b[0m\u001b[0;34m\u001b[0m\u001b[0;34m\u001b[0m\u001b[0m\n\u001b[0;32m-> 6018\u001b[0;31m                 \u001b[0;32mraise\u001b[0m \u001b[0mKeyError\u001b[0m\u001b[0;34m(\u001b[0m\u001b[0;34mf\"{labels[mask]} not found in axis\"\u001b[0m\u001b[0;34m)\u001b[0m\u001b[0;34m\u001b[0m\u001b[0;34m\u001b[0m\u001b[0m\n\u001b[0m\u001b[1;32m   6019\u001b[0m             \u001b[0mindexer\u001b[0m \u001b[0;34m=\u001b[0m \u001b[0mindexer\u001b[0m\u001b[0;34m[\u001b[0m\u001b[0;34m~\u001b[0m\u001b[0mmask\u001b[0m\u001b[0;34m]\u001b[0m\u001b[0;34m\u001b[0m\u001b[0;34m\u001b[0m\u001b[0m\n\u001b[1;32m   6020\u001b[0m         \u001b[0;32mreturn\u001b[0m \u001b[0mself\u001b[0m\u001b[0;34m.\u001b[0m\u001b[0mdelete\u001b[0m\u001b[0;34m(\u001b[0m\u001b[0mindexer\u001b[0m\u001b[0;34m)\u001b[0m\u001b[0;34m\u001b[0m\u001b[0;34m\u001b[0m\u001b[0m\n",
      "\u001b[0;31mKeyError\u001b[0m: \"['Location Name' 'Geo Location'] not found in axis\""
     ]
    }
   ],
   "metadata": {}
  },
  {
   "cell_type": "code",
   "execution_count": 38,
   "source": [
    "main_dataset.info()"
   ],
   "outputs": [
    {
     "output_type": "stream",
     "name": "stdout",
     "text": [
      "<class 'pandas.core.frame.DataFrame'>\n",
      "RangeIndex: 666 entries, 0 to 665\n",
      "Data columns (total 5 columns):\n",
      " #   Column  Non-Null Count  Dtype  \n",
      "---  ------  --------------  -----  \n",
      " 0   City    666 non-null    object \n",
      " 1   State   666 non-null    object \n",
      " 2   Song    666 non-null    object \n",
      " 3   lat     665 non-null    float64\n",
      " 4   long    665 non-null    float64\n",
      "dtypes: float64(2), object(3)\n",
      "memory usage: 26.1+ KB\n"
     ]
    }
   ],
   "metadata": {}
  },
  {
   "cell_type": "markdown",
   "source": [
    "## Merge all datasets"
   ],
   "metadata": {}
  },
  {
   "cell_type": "code",
   "execution_count": 39,
   "source": [
    "merged_data = pd.concat(map(pd.read_csv, glob.glob('datasets/*.csv')), ignore_index=True)\n",
    "merged_data.to_csv(cwd + '/Data_merged.csv')\n",
    "merged_data"
   ],
   "outputs": [
    {
     "output_type": "execute_result",
     "data": {
      "text/plain": [
       "             City       State  \\\n",
       "0     Los Angeles  California   \n",
       "1     Los Angeles  California   \n",
       "2     Los Angeles  California   \n",
       "3     Los Angeles  California   \n",
       "4     Los Angeles  California   \n",
       "...           ...         ...   \n",
       "9075    Ypsilanti    Michigan   \n",
       "9076    Ypsilanti    Michigan   \n",
       "9077    Ypsilanti    Michigan   \n",
       "9078    Ypsilanti    Michigan   \n",
       "9079   Youngstown        Ohio   \n",
       "\n",
       "                                                   Song        lat        long  \n",
       "0                                       10th & Crenshaw  34.053691 -118.242766  \n",
       "1                                 100 Miles and Runnin'  34.053691 -118.242766  \n",
       "2                                         101 Eastbound  34.053691 -118.242766  \n",
       "3                                   The 103rd St. Theme  34.053691 -118.242766  \n",
       "4                                     1977 Sunset Strip  34.053691 -118.242766  \n",
       "...                                                 ...        ...         ...  \n",
       "9075                                  Born in a Trailer        NaN         NaN  \n",
       "9076  For The Widows In Paradise, For The Fatherless...        NaN         NaN  \n",
       "9077                                          Ypsilanti        NaN         NaN  \n",
       "9078                                     Ypsilanti Song        NaN         NaN  \n",
       "9079                                         Youngstown        NaN         NaN  \n",
       "\n",
       "[9080 rows x 5 columns]"
      ],
      "text/html": [
       "<div>\n",
       "<style scoped>\n",
       "    .dataframe tbody tr th:only-of-type {\n",
       "        vertical-align: middle;\n",
       "    }\n",
       "\n",
       "    .dataframe tbody tr th {\n",
       "        vertical-align: top;\n",
       "    }\n",
       "\n",
       "    .dataframe thead th {\n",
       "        text-align: right;\n",
       "    }\n",
       "</style>\n",
       "<table border=\"1\" class=\"dataframe\">\n",
       "  <thead>\n",
       "    <tr style=\"text-align: right;\">\n",
       "      <th></th>\n",
       "      <th>City</th>\n",
       "      <th>State</th>\n",
       "      <th>Song</th>\n",
       "      <th>lat</th>\n",
       "      <th>long</th>\n",
       "    </tr>\n",
       "  </thead>\n",
       "  <tbody>\n",
       "    <tr>\n",
       "      <th>0</th>\n",
       "      <td>Los Angeles</td>\n",
       "      <td>California</td>\n",
       "      <td>10th &amp; Crenshaw</td>\n",
       "      <td>34.053691</td>\n",
       "      <td>-118.242766</td>\n",
       "    </tr>\n",
       "    <tr>\n",
       "      <th>1</th>\n",
       "      <td>Los Angeles</td>\n",
       "      <td>California</td>\n",
       "      <td>100 Miles and Runnin'</td>\n",
       "      <td>34.053691</td>\n",
       "      <td>-118.242766</td>\n",
       "    </tr>\n",
       "    <tr>\n",
       "      <th>2</th>\n",
       "      <td>Los Angeles</td>\n",
       "      <td>California</td>\n",
       "      <td>101 Eastbound</td>\n",
       "      <td>34.053691</td>\n",
       "      <td>-118.242766</td>\n",
       "    </tr>\n",
       "    <tr>\n",
       "      <th>3</th>\n",
       "      <td>Los Angeles</td>\n",
       "      <td>California</td>\n",
       "      <td>The 103rd St. Theme</td>\n",
       "      <td>34.053691</td>\n",
       "      <td>-118.242766</td>\n",
       "    </tr>\n",
       "    <tr>\n",
       "      <th>4</th>\n",
       "      <td>Los Angeles</td>\n",
       "      <td>California</td>\n",
       "      <td>1977 Sunset Strip</td>\n",
       "      <td>34.053691</td>\n",
       "      <td>-118.242766</td>\n",
       "    </tr>\n",
       "    <tr>\n",
       "      <th>...</th>\n",
       "      <td>...</td>\n",
       "      <td>...</td>\n",
       "      <td>...</td>\n",
       "      <td>...</td>\n",
       "      <td>...</td>\n",
       "    </tr>\n",
       "    <tr>\n",
       "      <th>9075</th>\n",
       "      <td>Ypsilanti</td>\n",
       "      <td>Michigan</td>\n",
       "      <td>Born in a Trailer</td>\n",
       "      <td>NaN</td>\n",
       "      <td>NaN</td>\n",
       "    </tr>\n",
       "    <tr>\n",
       "      <th>9076</th>\n",
       "      <td>Ypsilanti</td>\n",
       "      <td>Michigan</td>\n",
       "      <td>For The Widows In Paradise, For The Fatherless...</td>\n",
       "      <td>NaN</td>\n",
       "      <td>NaN</td>\n",
       "    </tr>\n",
       "    <tr>\n",
       "      <th>9077</th>\n",
       "      <td>Ypsilanti</td>\n",
       "      <td>Michigan</td>\n",
       "      <td>Ypsilanti</td>\n",
       "      <td>NaN</td>\n",
       "      <td>NaN</td>\n",
       "    </tr>\n",
       "    <tr>\n",
       "      <th>9078</th>\n",
       "      <td>Ypsilanti</td>\n",
       "      <td>Michigan</td>\n",
       "      <td>Ypsilanti Song</td>\n",
       "      <td>NaN</td>\n",
       "      <td>NaN</td>\n",
       "    </tr>\n",
       "    <tr>\n",
       "      <th>9079</th>\n",
       "      <td>Youngstown</td>\n",
       "      <td>Ohio</td>\n",
       "      <td>Youngstown</td>\n",
       "      <td>NaN</td>\n",
       "      <td>NaN</td>\n",
       "    </tr>\n",
       "  </tbody>\n",
       "</table>\n",
       "<p>9080 rows × 5 columns</p>\n",
       "</div>"
      ]
     },
     "metadata": {},
     "execution_count": 39
    }
   ],
   "metadata": {}
  },
  {
   "cell_type": "code",
   "execution_count": 40,
   "source": [
    "merged_data.info()"
   ],
   "outputs": [
    {
     "output_type": "stream",
     "name": "stdout",
     "text": [
      "<class 'pandas.core.frame.DataFrame'>\n",
      "RangeIndex: 9080 entries, 0 to 9079\n",
      "Data columns (total 5 columns):\n",
      " #   Column  Non-Null Count  Dtype  \n",
      "---  ------  --------------  -----  \n",
      " 0   City    9080 non-null   object \n",
      " 1   State   9080 non-null   object \n",
      " 2   Song    9026 non-null   object \n",
      " 3   lat     8414 non-null   float64\n",
      " 4   long    8414 non-null   float64\n",
      "dtypes: float64(2), object(3)\n",
      "memory usage: 354.8+ KB\n"
     ]
    }
   ],
   "metadata": {}
  }
 ],
 "metadata": {
  "kernelspec": {
   "name": "python3",
   "display_name": "Python 3.8.10 64-bit ('webscraping': conda)"
  },
  "language_info": {
   "codemirror_mode": {
    "name": "ipython",
    "version": 3
   },
   "file_extension": ".py",
   "mimetype": "text/x-python",
   "name": "python",
   "nbconvert_exporter": "python",
   "pygments_lexer": "ipython3",
   "version": "3.8.10"
  },
  "interpreter": {
   "hash": "a0f3f1c78d9d0645b6ecda63dc91b32fd233a6ca0882f9c6740e4d53711de2e4"
  }
 },
 "nbformat": 4,
 "nbformat_minor": 5
}