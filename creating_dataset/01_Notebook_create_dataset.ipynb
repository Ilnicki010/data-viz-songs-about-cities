{
 "cells": [
  {
   "cell_type": "markdown",
   "source": [
    "## Importing libs"
   ],
   "metadata": {}
  },
  {
   "cell_type": "code",
   "execution_count": 1,
   "source": [
    "import re\n",
    "from geopy import geocoders\n",
    "from geopy.geocoders import Nominatim\n",
    "from geopy.extra.rate_limiter import RateLimiter\n",
    "import pandas as pd\n",
    "import shutil\n",
    "import glob, os, time\n",
    "import sys  \n",
    "cwd = os.getcwd()\n",
    "from Script_utils import *"
   ],
   "outputs": [],
   "metadata": {}
  },
  {
   "cell_type": "markdown",
   "source": [
    "## Get all songs from U.S. and list separate articles"
   ],
   "metadata": {}
  },
  {
   "cell_type": "code",
   "execution_count": 2,
   "source": [
    "base_URL = 'https://en.wikipedia.org'\n",
    "all_songs_URL = base_URL + '/wiki/List_of_songs_about_cities'"
   ],
   "outputs": [],
   "metadata": {}
  },
  {
   "cell_type": "code",
   "execution_count": 3,
   "source": [
    "page_soup = load_page(all_songs_URL)\n",
    "\n",
    "us_h2 = page_soup.select('h2 > span.mw-headline#United_States')[0].parent"
   ],
   "outputs": [],
   "metadata": {}
  },
  {
   "cell_type": "code",
   "execution_count": 4,
   "source": [
    "cities = []\n",
    "states = []\n",
    "songs = []\n",
    "\n",
    "\n",
    "for element in us_h2.next_siblings:\n",
    "\n",
    "    if element.name == 'h2': break;\n",
    "    if element.name == 'h3':\n",
    "        city_state = get_city_and_state(element.getText())\n",
    "        start_point = element\n",
    "\n",
    "        for list_element in start_point.next_siblings:\n",
    "\n",
    "            if list_element.name == 'h3': break\n",
    "            if list_element.name == 'ul':\n",
    "\n",
    "                for song_element in list_element.select('li'):\n",
    "                    song_name = get_song_name(song_element.getText())\n",
    "                    songs.append(song_name)\n",
    "                    cities.append(city_state[0])\n",
    "                    states.append(city_state[1])\n",
    "\n",
    "            if list_element.name == 'div':\n",
    "                single_aricle_URL = list_element.select('a',herf=True)[0]['href']\n",
    "                print(single_aricle_URL)\n",
    "                continue"
   ],
   "outputs": [
    {
     "output_type": "stream",
     "name": "stdout",
     "text": [
      "/wiki/List_of_songs_about_Atlanta\n",
      "/wiki/List_of_songs_about_Birmingham,_Alabama\n",
      "/wiki/List_of_songs_about_Boston\n",
      "/wiki/List_of_songs_about_Chicago\n",
      "/wiki/List_of_songs_about_Detroit\n",
      "/wiki/List_of_songs_about_Los_Angeles\n",
      "/wiki/List_of_songs_about_Miami\n",
      "/wiki/List_of_songs_about_Nashville\n",
      "/wiki/List_of_songs_about_New_Orleans\n",
      "/wiki/List_of_songs_about_New_York_City\n",
      "/wiki/List_of_songs_about_Portland,_Oregon\n",
      "/wiki/List_of_songs_about_the_San_Francisco_Bay_Area\n",
      "/wiki/List_of_songs_about_Seattle\n"
     ]
    }
   ],
   "metadata": {}
  },
  {
   "cell_type": "markdown",
   "source": [
    "- /wiki/List_of_songs_about_Atlanta ✅\n",
    "- /wiki/List_of_songs_about_Birmingham,_Alabama 🚧\n",
    "- /wiki/List_of_songs_about_Boston ✅\n",
    "- /wiki/List_of_songs_about_Chicago ✅\n",
    "- /wiki/List_of_songs_about_Detroit ✅\n",
    "- /wiki/List_of_songs_about_Los_Angeles 🚧\n",
    "- /wiki/List_of_songs_about_Miami ✅\n",
    "- /wiki/List_of_songs_about_Nashville ✅\n",
    "- /wiki/List_of_songs_about_New_Orleans ✅\n",
    "- /wiki/List_of_songs_about_New_York_City ✅\n",
    "- /wiki/List_of_songs_about_Portland,_Oregon ✅\n",
    "- /wiki/List_of_songs_about_Seattle 🚧\n",
    "\n",
    "✅ - csv is generated <br/>\n",
    "🚧 - work in progress"
   ],
   "metadata": {}
  },
  {
   "cell_type": "code",
   "execution_count": 5,
   "source": [
    "print(f'Songs {len(songs)} | Cities: {len(cities)} | States: {len(states)}')"
   ],
   "outputs": [
    {
     "output_type": "stream",
     "name": "stdout",
     "text": [
      "Songs 667 | Cities: 667 | States: 667\n"
     ]
    }
   ],
   "metadata": {}
  },
  {
   "cell_type": "code",
   "execution_count": 6,
   "source": [
    "export_data = pd.DataFrame(data={'City':cities,'State':states,'Song':songs})"
   ],
   "outputs": [],
   "metadata": {}
  },
  {
   "cell_type": "code",
   "execution_count": 7,
   "source": [
    "export_data.info()"
   ],
   "outputs": [
    {
     "output_type": "stream",
     "name": "stdout",
     "text": [
      "<class 'pandas.core.frame.DataFrame'>\n",
      "RangeIndex: 667 entries, 0 to 666\n",
      "Data columns (total 3 columns):\n",
      " #   Column  Non-Null Count  Dtype \n",
      "---  ------  --------------  ----- \n",
      " 0   City    667 non-null    object\n",
      " 1   State   667 non-null    object\n",
      " 2   Song    667 non-null    object\n",
      "dtypes: object(3)\n",
      "memory usage: 15.8+ KB\n"
     ]
    }
   ],
   "metadata": {}
  },
  {
   "cell_type": "code",
   "execution_count": 8,
   "source": [
    "rows_with_nan = export_data[export_data.isnull().any(axis=1)]\n",
    "print(rows_with_nan)\n",
    "print(f'# of rows with NaN: {len(rows_with_nan)}')"
   ],
   "outputs": [
    {
     "output_type": "stream",
     "name": "stdout",
     "text": [
      "Empty DataFrame\n",
      "Columns: [City, State, Song]\n",
      "Index: []\n",
      "# of rows with NaN: 0\n"
     ]
    }
   ],
   "metadata": {}
  },
  {
   "cell_type": "markdown",
   "source": [
    "There were 18 rows with NaN values coused by issues below:\n",
    "\n",
    "1. Missing cloasing quote\n",
    "- Details: I noticed some of the songs in the Wikipedia article don't have closing quote (!) and my regex fail.\n",
    "- Solution: I could make more complex regex to handle this situation, but instead I edit Wikipedia article. There are no so many of that rows and it'll help future scrapers :)\n",
    "\n",
    "2. Different quote type\n",
    "- Details: I found out there are many different type of quotation marks in UNICODE.\n",
    "- Solution: I need to sanitize song names a bit"
   ],
   "metadata": {}
  },
  {
   "cell_type": "code",
   "execution_count": 9,
   "source": [
    "export_data.to_csv(cwd + '/datasets/Data_main.csv',index=False)\n",
    "export_data.info()"
   ],
   "outputs": [
    {
     "output_type": "stream",
     "name": "stdout",
     "text": [
      "<class 'pandas.core.frame.DataFrame'>\n",
      "RangeIndex: 667 entries, 0 to 666\n",
      "Data columns (total 3 columns):\n",
      " #   Column  Non-Null Count  Dtype \n",
      "---  ------  --------------  ----- \n",
      " 0   City    667 non-null    object\n",
      " 1   State   667 non-null    object\n",
      " 2   Song    667 non-null    object\n",
      "dtypes: object(3)\n",
      "memory usage: 15.8+ KB\n"
     ]
    }
   ],
   "metadata": {}
  },
  {
   "cell_type": "markdown",
   "source": [
    "## Scraping data for each big city\n",
    "\n",
    "Unfortunately, every article has a slightly different structure so I had to scrape them separately."
   ],
   "metadata": {}
  },
  {
   "cell_type": "code",
   "execution_count": 10,
   "source": [
    "def scrape_single_aricle(URL, start_tag,start_id, stop_tag, city_name, state_name):\n",
    "    page_soup = load_page(base_URL + URL)\n",
    "\n",
    "    start = page_soup.find(start_tag,id=start_id).parent\n",
    "\n",
    "    songs = []\n",
    "    cities = []\n",
    "    states = []\n",
    "\n",
    "    for element in start.next_siblings:\n",
    "        if element.name == stop_tag: break\n",
    "        if element.name == 'ul':\n",
    "            for li in element.select('li'):\n",
    "                song_name = get_song_name(li.getText())\n",
    "                songs.append(song_name)\n",
    "                cities.append(city_name)\n",
    "                states.append(state_name)\n",
    "    return {\n",
    "        'songs':songs,\n",
    "        'cities':cities,\n",
    "        'states':states\n",
    "    }"
   ],
   "outputs": [],
   "metadata": {}
  },
  {
   "cell_type": "markdown",
   "source": [
    "### Detroit"
   ],
   "metadata": {}
  },
  {
   "cell_type": "code",
   "execution_count": 11,
   "source": [
    "detroit_results = scrape_single_aricle(\n",
    "    URL = '/wiki/List_of_songs_about_Detroit',\n",
    "    start_tag = 'span',\n",
    "    start_id='0-9',\n",
    "    stop_tag = 'div',\n",
    "    city_name = 'Detroit',\n",
    "    state_name = 'Michigan')"
   ],
   "outputs": [],
   "metadata": {}
  },
  {
   "cell_type": "code",
   "execution_count": 12,
   "source": [
    "export_data_detroit = pd.DataFrame(data={'City':detroit_results['cities'],'State':detroit_results['states'],'Song':detroit_results['songs']})\n",
    "export_data_detroit.to_csv(cwd + '/datasets/Data_detroit.csv',index=False)\n",
    "export_data_detroit.info()"
   ],
   "outputs": [
    {
     "output_type": "stream",
     "name": "stdout",
     "text": [
      "<class 'pandas.core.frame.DataFrame'>\n",
      "RangeIndex: 316 entries, 0 to 315\n",
      "Data columns (total 3 columns):\n",
      " #   Column  Non-Null Count  Dtype \n",
      "---  ------  --------------  ----- \n",
      " 0   City    316 non-null    object\n",
      " 1   State   316 non-null    object\n",
      " 2   Song    303 non-null    object\n",
      "dtypes: object(3)\n",
      "memory usage: 7.5+ KB\n"
     ]
    }
   ],
   "metadata": {}
  },
  {
   "cell_type": "markdown",
   "source": [
    "### Miami"
   ],
   "metadata": {}
  },
  {
   "cell_type": "code",
   "execution_count": 13,
   "source": [
    "miami_results = scrape_single_aricle(\n",
    "    URL = '/wiki/List_of_songs_about_Miami',\n",
    "    start_tag = 'span',\n",
    "    start_id='Songs_about_Miami',\n",
    "    stop_tag = 'h2',\n",
    "    city_name = 'Miami',\n",
    "    state_name = 'Florida')"
   ],
   "outputs": [],
   "metadata": {}
  },
  {
   "cell_type": "code",
   "execution_count": 14,
   "source": [
    "export_data_miami = pd.DataFrame(data={'City':miami_results['cities'],'State':miami_results['states'],'Song':miami_results['songs']})\n",
    "export_data_miami.to_csv(cwd + '/datasets/Data_miami.csv',index=False)\n",
    "export_data_miami.info()"
   ],
   "outputs": [
    {
     "output_type": "stream",
     "name": "stdout",
     "text": [
      "<class 'pandas.core.frame.DataFrame'>\n",
      "RangeIndex: 45 entries, 0 to 44\n",
      "Data columns (total 3 columns):\n",
      " #   Column  Non-Null Count  Dtype \n",
      "---  ------  --------------  ----- \n",
      " 0   City    45 non-null     object\n",
      " 1   State   45 non-null     object\n",
      " 2   Song    45 non-null     object\n",
      "dtypes: object(3)\n",
      "memory usage: 1.2+ KB\n"
     ]
    }
   ],
   "metadata": {}
  },
  {
   "cell_type": "markdown",
   "source": [
    "### New Orleans"
   ],
   "metadata": {}
  },
  {
   "cell_type": "code",
   "execution_count": 15,
   "source": [
    "new_orleans_results = scrape_single_aricle(\n",
    "    URL = '/wiki/List_of_songs_about_New_Orleans',\n",
    "    start_tag = 'span',\n",
    "    start_id='0-9',\n",
    "    stop_tag = 'div',\n",
    "    city_name = 'New Orleans',\n",
    "    state_name = 'Louisiana')"
   ],
   "outputs": [],
   "metadata": {}
  },
  {
   "cell_type": "code",
   "execution_count": 16,
   "source": [
    "export_data_new_orleans = pd.DataFrame(data={'City':new_orleans_results['cities'],'State':new_orleans_results['states'],'Song':new_orleans_results['songs']})\n",
    "export_data_new_orleans.to_csv(cwd + '/datasets/Data_new_orleans.csv',index=False)\n",
    "export_data_new_orleans.info()"
   ],
   "outputs": [
    {
     "output_type": "stream",
     "name": "stdout",
     "text": [
      "<class 'pandas.core.frame.DataFrame'>\n",
      "RangeIndex: 779 entries, 0 to 778\n",
      "Data columns (total 3 columns):\n",
      " #   Column  Non-Null Count  Dtype \n",
      "---  ------  --------------  ----- \n",
      " 0   City    779 non-null    object\n",
      " 1   State   779 non-null    object\n",
      " 2   Song    775 non-null    object\n",
      "dtypes: object(3)\n",
      "memory usage: 18.4+ KB\n"
     ]
    }
   ],
   "metadata": {}
  },
  {
   "cell_type": "markdown",
   "source": [
    "### Los Angeles"
   ],
   "metadata": {}
  },
  {
   "cell_type": "code",
   "execution_count": 17,
   "source": [
    "los_angeles_results = scrape_single_aricle(\n",
    "    URL = '/wiki/List_of_songs_about_Los_Angeles',\n",
    "    start_tag = 'span',\n",
    "    start_id='#s–A',\n",
    "    stop_tag = 'h2',\n",
    "    city_name = 'Los Angeles',\n",
    "    state_name = 'California')"
   ],
   "outputs": [],
   "metadata": {}
  },
  {
   "cell_type": "code",
   "execution_count": 18,
   "source": [
    "export_data_los_angeles = pd.DataFrame(data={'City':los_angeles_results['cities'],'State':los_angeles_results['states'],'Song':los_angeles_results['songs']})\n",
    "export_data_los_angeles.to_csv(cwd + '/datasets/Data_los_angeles.csv',index=False)\n",
    "export_data_los_angeles.info()"
   ],
   "outputs": [
    {
     "output_type": "stream",
     "name": "stdout",
     "text": [
      "<class 'pandas.core.frame.DataFrame'>\n",
      "RangeIndex: 2696 entries, 0 to 2695\n",
      "Data columns (total 3 columns):\n",
      " #   Column  Non-Null Count  Dtype \n",
      "---  ------  --------------  ----- \n",
      " 0   City    2696 non-null   object\n",
      " 1   State   2696 non-null   object\n",
      " 2   Song    2681 non-null   object\n",
      "dtypes: object(3)\n",
      "memory usage: 63.3+ KB\n"
     ]
    }
   ],
   "metadata": {}
  },
  {
   "cell_type": "markdown",
   "source": [
    "### Chicago"
   ],
   "metadata": {}
  },
  {
   "cell_type": "code",
   "execution_count": 19,
   "source": [
    "chicago_results = scrape_single_aricle(\n",
    "    URL = '/wiki/List_of_songs_about_Chicago',\n",
    "    start_tag = 'span',\n",
    "    start_id='0–9',\n",
    "    stop_tag = 'p',\n",
    "    city_name = 'Chicago',\n",
    "    state_name = 'Illinois')"
   ],
   "outputs": [],
   "metadata": {}
  },
  {
   "cell_type": "code",
   "execution_count": 20,
   "source": [
    "export_data_chicago = pd.DataFrame(data={'City':chicago_results['cities'],'State':chicago_results['states'],'Song':chicago_results['songs']})\n",
    "export_data_chicago.to_csv(cwd + '/datasets/Data_chicago.csv',index=False)\n",
    "export_data_chicago.info()"
   ],
   "outputs": [
    {
     "output_type": "stream",
     "name": "stdout",
     "text": [
      "<class 'pandas.core.frame.DataFrame'>\n",
      "RangeIndex: 665 entries, 0 to 664\n",
      "Data columns (total 3 columns):\n",
      " #   Column  Non-Null Count  Dtype \n",
      "---  ------  --------------  ----- \n",
      " 0   City    665 non-null    object\n",
      " 1   State   665 non-null    object\n",
      " 2   Song    659 non-null    object\n",
      "dtypes: object(3)\n",
      "memory usage: 15.7+ KB\n"
     ]
    }
   ],
   "metadata": {}
  },
  {
   "cell_type": "markdown",
   "source": [
    "### New York City"
   ],
   "metadata": {}
  },
  {
   "cell_type": "code",
   "execution_count": 21,
   "source": [
    "page_soup = load_page(base_URL + '/wiki/List_of_songs_about_New_York_City')\n",
    "\n",
    "start = page_soup.find(\"span\",id=\"0–9\").parent\n",
    "\n",
    "songs = []\n",
    "cities = []\n",
    "states = []\n",
    "\n",
    "for element in start.next_siblings:\n",
    "    if element.name == 'p': break\n",
    "    if element.name == 'div':\n",
    "        el = element.select('ul')[0]\n",
    "        for li in el.select('li'):\n",
    "            song_name = get_song_name(li.getText())\n",
    "            songs.append(song_name)\n",
    "            cities.append('New York City')\n",
    "            states.append('New York')"
   ],
   "outputs": [],
   "metadata": {}
  },
  {
   "cell_type": "code",
   "execution_count": 22,
   "source": [
    "export_data_new_york_city = pd.DataFrame(data={'City':cities,'State':states,'Song':songs})\n",
    "export_data_new_york_city.to_csv(cwd + '/datasets/Data_new_york_city.csv',index=False)\n",
    "export_data_new_york_city.info()"
   ],
   "outputs": [
    {
     "output_type": "stream",
     "name": "stdout",
     "text": [
      "<class 'pandas.core.frame.DataFrame'>\n",
      "RangeIndex: 3663 entries, 0 to 3662\n",
      "Data columns (total 3 columns):\n",
      " #   Column  Non-Null Count  Dtype \n",
      "---  ------  --------------  ----- \n",
      " 0   City    3663 non-null   object\n",
      " 1   State   3663 non-null   object\n",
      " 2   Song    3647 non-null   object\n",
      "dtypes: object(3)\n",
      "memory usage: 86.0+ KB\n"
     ]
    }
   ],
   "metadata": {}
  },
  {
   "cell_type": "markdown",
   "source": [
    "### Nashville"
   ],
   "metadata": {}
  },
  {
   "cell_type": "code",
   "execution_count": 23,
   "source": [
    "page_soup = load_page(base_URL + '/wiki/List_of_songs_about_Nashville,_Tennessee')\n",
    "\n",
    "start = page_soup.find(\"span\",id=\"C\").parent\n",
    "\n",
    "songs = []\n",
    "cities = []\n",
    "states = []\n",
    "\n",
    "for element in start.next_siblings:\n",
    "    if element.name == 'h2' and element.select('span#References'): break\n",
    "    if element.name == 'ul':\n",
    "        for li in element.select('li'):\n",
    "            song_name = get_song_name(li.getText())\n",
    "            songs.append(song_name)\n",
    "            cities.append('Nashville')\n",
    "            states.append('Tennessee')"
   ],
   "outputs": [],
   "metadata": {}
  },
  {
   "cell_type": "code",
   "execution_count": 24,
   "source": [
    "export_data_nashville = pd.DataFrame(data={'City':cities,'State':states,'Song':songs})\n",
    "export_data_nashville.to_csv(cwd + '/datasets/Data_nashville.csv',index=False)\n",
    "export_data_nashville.info()"
   ],
   "outputs": [
    {
     "output_type": "stream",
     "name": "stdout",
     "text": [
      "<class 'pandas.core.frame.DataFrame'>\n",
      "RangeIndex: 44 entries, 0 to 43\n",
      "Data columns (total 3 columns):\n",
      " #   Column  Non-Null Count  Dtype \n",
      "---  ------  --------------  ----- \n",
      " 0   City    44 non-null     object\n",
      " 1   State   44 non-null     object\n",
      " 2   Song    44 non-null     object\n",
      "dtypes: object(3)\n",
      "memory usage: 1.2+ KB\n"
     ]
    }
   ],
   "metadata": {}
  },
  {
   "cell_type": "markdown",
   "source": [
    "### Atlanta"
   ],
   "metadata": {}
  },
  {
   "cell_type": "code",
   "execution_count": 25,
   "source": [
    "page_soup = load_page(base_URL + '/wiki/List_of_songs_about_Atlanta')\n",
    "\n",
    "songs_list = page_soup.find(\"ul\")\n",
    "\n",
    "songs = []\n",
    "cities = []\n",
    "states = []\n",
    "\n",
    "for li in songs_list.select('li'):\n",
    "    song_name = get_song_name(li.getText())\n",
    "    songs.append(song_name)\n",
    "    cities.append('Atlanta')\n",
    "    states.append('Georgia')"
   ],
   "outputs": [],
   "metadata": {}
  },
  {
   "cell_type": "code",
   "execution_count": 26,
   "source": [
    "export_data_atlanta = pd.DataFrame(data={'City':cities,'State':states,'Song':songs})\n",
    "export_data_atlanta.to_csv(cwd + '/datasets/Data_atlanta.csv',index=False)\n",
    "export_data_atlanta.info()"
   ],
   "outputs": [
    {
     "output_type": "stream",
     "name": "stdout",
     "text": [
      "<class 'pandas.core.frame.DataFrame'>\n",
      "RangeIndex: 41 entries, 0 to 40\n",
      "Data columns (total 3 columns):\n",
      " #   Column  Non-Null Count  Dtype \n",
      "---  ------  --------------  ----- \n",
      " 0   City    41 non-null     object\n",
      " 1   State   41 non-null     object\n",
      " 2   Song    41 non-null     object\n",
      "dtypes: object(3)\n",
      "memory usage: 1.1+ KB\n"
     ]
    }
   ],
   "metadata": {}
  },
  {
   "cell_type": "markdown",
   "source": [
    "### Boston"
   ],
   "metadata": {}
  },
  {
   "cell_type": "code",
   "execution_count": 27,
   "source": [
    "page_soup = load_page(base_URL + '/wiki/List_of_songs_about_Boston')\n",
    "\n",
    "songs_list = page_soup.find(\"ul\")\n",
    "\n",
    "songs = []\n",
    "cities = []\n",
    "states = []\n",
    "\n",
    "for li in songs_list.select('li'):\n",
    "    song_name = get_song_name(li.getText())\n",
    "    songs.append(song_name)\n",
    "    cities.append('Boston')\n",
    "    states.append('Massachusetts')"
   ],
   "outputs": [],
   "metadata": {}
  },
  {
   "cell_type": "code",
   "execution_count": 28,
   "source": [
    "export_data_boston = pd.DataFrame(data={'City':cities,'State':states,'Song':songs})\n",
    "export_data_boston.to_csv(cwd + '/datasets/Data_boston.csv',index=False)\n",
    "export_data_boston.info()"
   ],
   "outputs": [
    {
     "output_type": "stream",
     "name": "stdout",
     "text": [
      "<class 'pandas.core.frame.DataFrame'>\n",
      "RangeIndex: 137 entries, 0 to 136\n",
      "Data columns (total 3 columns):\n",
      " #   Column  Non-Null Count  Dtype \n",
      "---  ------  --------------  ----- \n",
      " 0   City    137 non-null    object\n",
      " 1   State   137 non-null    object\n",
      " 2   Song    137 non-null    object\n",
      "dtypes: object(3)\n",
      "memory usage: 3.3+ KB\n"
     ]
    }
   ],
   "metadata": {}
  },
  {
   "cell_type": "markdown",
   "source": [
    "### Portland"
   ],
   "metadata": {}
  },
  {
   "cell_type": "code",
   "execution_count": 29,
   "source": [
    "page_soup = load_page(base_URL + '/wiki/List_of_songs_about_Portland,_Oregon')\n",
    "\n",
    "songs_list = page_soup.find(\"ul\")\n",
    "\n",
    "songs = []\n",
    "cities = []\n",
    "states = []\n",
    "\n",
    "for li in songs_list.select('li'):\n",
    "    song_name = get_song_name(li.getText())\n",
    "    songs.append(song_name)\n",
    "    cities.append('Portland')\n",
    "    states.append('Oregon')"
   ],
   "outputs": [],
   "metadata": {}
  },
  {
   "cell_type": "code",
   "execution_count": 30,
   "source": [
    "export_data_portland = pd.DataFrame(data={'City':cities,'State':states,'Song':songs})\n",
    "export_data_portland.to_csv(cwd + '/datasets/Data_portland.csv',index=False)\n",
    "export_data_portland.info()"
   ],
   "outputs": [
    {
     "output_type": "stream",
     "name": "stdout",
     "text": [
      "<class 'pandas.core.frame.DataFrame'>\n",
      "RangeIndex: 31 entries, 0 to 30\n",
      "Data columns (total 3 columns):\n",
      " #   Column  Non-Null Count  Dtype \n",
      "---  ------  --------------  ----- \n",
      " 0   City    31 non-null     object\n",
      " 1   State   31 non-null     object\n",
      " 2   Song    31 non-null     object\n",
      "dtypes: object(3)\n",
      "memory usage: 872.0+ bytes\n"
     ]
    }
   ],
   "metadata": {}
  },
  {
   "cell_type": "markdown",
   "source": [
    "## Getting lat and long from GeoPy"
   ],
   "metadata": {}
  },
  {
   "cell_type": "code",
   "execution_count": 31,
   "source": [
    "geolocator = Nominatim(user_agent=\"my_app\")"
   ],
   "outputs": [],
   "metadata": {}
  },
  {
   "cell_type": "code",
   "execution_count": 32,
   "source": [
    "separate_cities = [\n",
    "    {\n",
    "        'city':'Los Angeles',\n",
    "        'state':'California'\n",
    "    },\n",
    "    {\n",
    "        'city':'Atlanta',\n",
    "        'state':'Georgia'\n",
    "    },\n",
    "    {\n",
    "        'city':'Boston',\n",
    "        'state':'Massachusetts'\n",
    "    },\n",
    "    {\n",
    "        'city':'Chicago',\n",
    "        'state':'Illinois'\n",
    "    },\n",
    "    {\n",
    "        'city':'Detroit',\n",
    "        'state':'Michigan'\n",
    "    },\n",
    "    {\n",
    "        'city':'Miami',\n",
    "        'state':'Florida'\n",
    "    },\n",
    "    {\n",
    "        'city':'Nashville',\n",
    "        'state':'Tennessee'\n",
    "    },\n",
    "    {\n",
    "        'city':'New Orleans',\n",
    "        'state':'Louisiana'\n",
    "    },\n",
    "    {\n",
    "        'city':'New York City',\n",
    "        'state':'New York'\n",
    "    },\n",
    "    {\n",
    "        'city':'Portland',\n",
    "        'state':'Oregon'\n",
    "    }\n",
    "]"
   ],
   "outputs": [],
   "metadata": {}
  },
  {
   "cell_type": "code",
   "execution_count": 33,
   "source": [
    "i = 0\n",
    "while i < len(separate_cities):\n",
    "    try:\n",
    "        loc = geolocator.geocode(f'{separate_cities[i][\"city\"]},{separate_cities[i][\"state\"]} United States')\n",
    "    except Exception:\n",
    "        print(f'🛑 Can\\'t generate coordinates for {separate_cities[i][\"city\"]}')\n",
    "        continue\n",
    "\n",
    "    dataset_to_change_PATH = cwd + f'/datasets/Data_{normalized_city_name(separate_cities[i][\"city\"])}.csv'\n",
    "\n",
    "    data_to_change = pd.read_csv(dataset_to_change_PATH, index_col=[0])\n",
    "    data_to_change['lat'] = loc.latitude\n",
    "    data_to_change['long'] = loc.longitude\n",
    "    data_to_change.to_csv(dataset_to_change_PATH)\n",
    "    print(f'✅ Coordinates for {separate_cities[i][\"city\"]} generated!')\n",
    "    i+=1\n"
   ],
   "outputs": [
    {
     "output_type": "stream",
     "name": "stdout",
     "text": [
      "✅ Coordinates for Los Angeles generated!\n",
      "✅ Coordinates for Atlanta generated!\n",
      "✅ Coordinates for Boston generated!\n",
      "✅ Coordinates for Chicago generated!\n",
      "✅ Coordinates for Detroit generated!\n",
      "✅ Coordinates for Miami generated!\n",
      "✅ Coordinates for Nashville generated!\n",
      "✅ Coordinates for New Orleans generated!\n",
      "✅ Coordinates for New York City generated!\n",
      "✅ Coordinates for Portland generated!\n"
     ]
    }
   ],
   "metadata": {}
  },
  {
   "cell_type": "markdown",
   "source": [
    "\n",
    "## Get lat and long for main dataset\n",
    "\n",
    "*Note: GeoPy allows for 2500 requests per day*"
   ],
   "metadata": {}
  },
  {
   "cell_type": "code",
   "execution_count": 34,
   "source": [
    "main_dataset_import = pd.read_csv(cwd + '/datasets/Data_main.csv')\n",
    "main_dataset = main_dataset_import.copy()\n",
    "main_dataset"
   ],
   "outputs": [
    {
     "output_type": "execute_result",
     "data": {
      "text/plain": [
       "           City     State                                               Song\n",
       "0      Aberdeen  Maryland                                               I-95\n",
       "1       Abilene    Kansas                                            Abilene\n",
       "2       Abilene    Kansas                                              Loser\n",
       "3         Akron      Ohio                                   Downtown (Akron)\n",
       "4         Akron      Ohio                                   My City Was Gone\n",
       "..          ...       ...                                                ...\n",
       "662   Ypsilanti  Michigan                                  Born in a Trailer\n",
       "663   Ypsilanti  Michigan  For The Widows In Paradise, For The Fatherless...\n",
       "664   Ypsilanti  Michigan                                          Ypsilanti\n",
       "665   Ypsilanti  Michigan                                     Ypsilanti Song\n",
       "666  Youngstown      Ohio                                         Youngstown\n",
       "\n",
       "[667 rows x 3 columns]"
      ],
      "text/html": [
       "<div>\n",
       "<style scoped>\n",
       "    .dataframe tbody tr th:only-of-type {\n",
       "        vertical-align: middle;\n",
       "    }\n",
       "\n",
       "    .dataframe tbody tr th {\n",
       "        vertical-align: top;\n",
       "    }\n",
       "\n",
       "    .dataframe thead th {\n",
       "        text-align: right;\n",
       "    }\n",
       "</style>\n",
       "<table border=\"1\" class=\"dataframe\">\n",
       "  <thead>\n",
       "    <tr style=\"text-align: right;\">\n",
       "      <th></th>\n",
       "      <th>City</th>\n",
       "      <th>State</th>\n",
       "      <th>Song</th>\n",
       "    </tr>\n",
       "  </thead>\n",
       "  <tbody>\n",
       "    <tr>\n",
       "      <th>0</th>\n",
       "      <td>Aberdeen</td>\n",
       "      <td>Maryland</td>\n",
       "      <td>I-95</td>\n",
       "    </tr>\n",
       "    <tr>\n",
       "      <th>1</th>\n",
       "      <td>Abilene</td>\n",
       "      <td>Kansas</td>\n",
       "      <td>Abilene</td>\n",
       "    </tr>\n",
       "    <tr>\n",
       "      <th>2</th>\n",
       "      <td>Abilene</td>\n",
       "      <td>Kansas</td>\n",
       "      <td>Loser</td>\n",
       "    </tr>\n",
       "    <tr>\n",
       "      <th>3</th>\n",
       "      <td>Akron</td>\n",
       "      <td>Ohio</td>\n",
       "      <td>Downtown (Akron)</td>\n",
       "    </tr>\n",
       "    <tr>\n",
       "      <th>4</th>\n",
       "      <td>Akron</td>\n",
       "      <td>Ohio</td>\n",
       "      <td>My City Was Gone</td>\n",
       "    </tr>\n",
       "    <tr>\n",
       "      <th>...</th>\n",
       "      <td>...</td>\n",
       "      <td>...</td>\n",
       "      <td>...</td>\n",
       "    </tr>\n",
       "    <tr>\n",
       "      <th>662</th>\n",
       "      <td>Ypsilanti</td>\n",
       "      <td>Michigan</td>\n",
       "      <td>Born in a Trailer</td>\n",
       "    </tr>\n",
       "    <tr>\n",
       "      <th>663</th>\n",
       "      <td>Ypsilanti</td>\n",
       "      <td>Michigan</td>\n",
       "      <td>For The Widows In Paradise, For The Fatherless...</td>\n",
       "    </tr>\n",
       "    <tr>\n",
       "      <th>664</th>\n",
       "      <td>Ypsilanti</td>\n",
       "      <td>Michigan</td>\n",
       "      <td>Ypsilanti</td>\n",
       "    </tr>\n",
       "    <tr>\n",
       "      <th>665</th>\n",
       "      <td>Ypsilanti</td>\n",
       "      <td>Michigan</td>\n",
       "      <td>Ypsilanti Song</td>\n",
       "    </tr>\n",
       "    <tr>\n",
       "      <th>666</th>\n",
       "      <td>Youngstown</td>\n",
       "      <td>Ohio</td>\n",
       "      <td>Youngstown</td>\n",
       "    </tr>\n",
       "  </tbody>\n",
       "</table>\n",
       "<p>667 rows × 3 columns</p>\n",
       "</div>"
      ]
     },
     "metadata": {},
     "execution_count": 34
    }
   ],
   "metadata": {}
  },
  {
   "cell_type": "code",
   "execution_count": 35,
   "source": [
    "main_dataset['Location Name'] = main_dataset.apply(lambda row: f'{row[\"City\"]}, {row[\"State\"]} United States', axis=1)\n",
    "main_dataset"
   ],
   "outputs": [
    {
     "output_type": "execute_result",
     "data": {
      "text/plain": [
       "           City     State                                               Song  \\\n",
       "0      Aberdeen  Maryland                                               I-95   \n",
       "1       Abilene    Kansas                                            Abilene   \n",
       "2       Abilene    Kansas                                              Loser   \n",
       "3         Akron      Ohio                                   Downtown (Akron)   \n",
       "4         Akron      Ohio                                   My City Was Gone   \n",
       "..          ...       ...                                                ...   \n",
       "662   Ypsilanti  Michigan                                  Born in a Trailer   \n",
       "663   Ypsilanti  Michigan  For The Widows In Paradise, For The Fatherless...   \n",
       "664   Ypsilanti  Michigan                                          Ypsilanti   \n",
       "665   Ypsilanti  Michigan                                     Ypsilanti Song   \n",
       "666  Youngstown      Ohio                                         Youngstown   \n",
       "\n",
       "                         Location Name  \n",
       "0     Aberdeen, Maryland United States  \n",
       "1        Abilene, Kansas United States  \n",
       "2        Abilene, Kansas United States  \n",
       "3            Akron, Ohio United States  \n",
       "4            Akron, Ohio United States  \n",
       "..                                 ...  \n",
       "662  Ypsilanti, Michigan United States  \n",
       "663  Ypsilanti, Michigan United States  \n",
       "664  Ypsilanti, Michigan United States  \n",
       "665  Ypsilanti, Michigan United States  \n",
       "666     Youngstown, Ohio United States  \n",
       "\n",
       "[667 rows x 4 columns]"
      ],
      "text/html": [
       "<div>\n",
       "<style scoped>\n",
       "    .dataframe tbody tr th:only-of-type {\n",
       "        vertical-align: middle;\n",
       "    }\n",
       "\n",
       "    .dataframe tbody tr th {\n",
       "        vertical-align: top;\n",
       "    }\n",
       "\n",
       "    .dataframe thead th {\n",
       "        text-align: right;\n",
       "    }\n",
       "</style>\n",
       "<table border=\"1\" class=\"dataframe\">\n",
       "  <thead>\n",
       "    <tr style=\"text-align: right;\">\n",
       "      <th></th>\n",
       "      <th>City</th>\n",
       "      <th>State</th>\n",
       "      <th>Song</th>\n",
       "      <th>Location Name</th>\n",
       "    </tr>\n",
       "  </thead>\n",
       "  <tbody>\n",
       "    <tr>\n",
       "      <th>0</th>\n",
       "      <td>Aberdeen</td>\n",
       "      <td>Maryland</td>\n",
       "      <td>I-95</td>\n",
       "      <td>Aberdeen, Maryland United States</td>\n",
       "    </tr>\n",
       "    <tr>\n",
       "      <th>1</th>\n",
       "      <td>Abilene</td>\n",
       "      <td>Kansas</td>\n",
       "      <td>Abilene</td>\n",
       "      <td>Abilene, Kansas United States</td>\n",
       "    </tr>\n",
       "    <tr>\n",
       "      <th>2</th>\n",
       "      <td>Abilene</td>\n",
       "      <td>Kansas</td>\n",
       "      <td>Loser</td>\n",
       "      <td>Abilene, Kansas United States</td>\n",
       "    </tr>\n",
       "    <tr>\n",
       "      <th>3</th>\n",
       "      <td>Akron</td>\n",
       "      <td>Ohio</td>\n",
       "      <td>Downtown (Akron)</td>\n",
       "      <td>Akron, Ohio United States</td>\n",
       "    </tr>\n",
       "    <tr>\n",
       "      <th>4</th>\n",
       "      <td>Akron</td>\n",
       "      <td>Ohio</td>\n",
       "      <td>My City Was Gone</td>\n",
       "      <td>Akron, Ohio United States</td>\n",
       "    </tr>\n",
       "    <tr>\n",
       "      <th>...</th>\n",
       "      <td>...</td>\n",
       "      <td>...</td>\n",
       "      <td>...</td>\n",
       "      <td>...</td>\n",
       "    </tr>\n",
       "    <tr>\n",
       "      <th>662</th>\n",
       "      <td>Ypsilanti</td>\n",
       "      <td>Michigan</td>\n",
       "      <td>Born in a Trailer</td>\n",
       "      <td>Ypsilanti, Michigan United States</td>\n",
       "    </tr>\n",
       "    <tr>\n",
       "      <th>663</th>\n",
       "      <td>Ypsilanti</td>\n",
       "      <td>Michigan</td>\n",
       "      <td>For The Widows In Paradise, For The Fatherless...</td>\n",
       "      <td>Ypsilanti, Michigan United States</td>\n",
       "    </tr>\n",
       "    <tr>\n",
       "      <th>664</th>\n",
       "      <td>Ypsilanti</td>\n",
       "      <td>Michigan</td>\n",
       "      <td>Ypsilanti</td>\n",
       "      <td>Ypsilanti, Michigan United States</td>\n",
       "    </tr>\n",
       "    <tr>\n",
       "      <th>665</th>\n",
       "      <td>Ypsilanti</td>\n",
       "      <td>Michigan</td>\n",
       "      <td>Ypsilanti Song</td>\n",
       "      <td>Ypsilanti, Michigan United States</td>\n",
       "    </tr>\n",
       "    <tr>\n",
       "      <th>666</th>\n",
       "      <td>Youngstown</td>\n",
       "      <td>Ohio</td>\n",
       "      <td>Youngstown</td>\n",
       "      <td>Youngstown, Ohio United States</td>\n",
       "    </tr>\n",
       "  </tbody>\n",
       "</table>\n",
       "<p>667 rows × 4 columns</p>\n",
       "</div>"
      ]
     },
     "metadata": {},
     "execution_count": 35
    }
   ],
   "metadata": {}
  },
  {
   "cell_type": "code",
   "execution_count": 36,
   "source": [
    "geocode = RateLimiter(geolocator.geocode, min_delay_seconds=2)\n",
    "\n",
    "main_dataset['Geo Location'] = main_dataset['Location Name'].apply(geocode)\n",
    "\n",
    "main_dataset['lat'] = main_dataset['Geo Location'].apply(lambda loc: loc.latitude if loc else None)\n",
    "main_dataset['long'] = main_dataset['Geo Location'].apply(lambda loc: loc.longitude if loc else None)"
   ],
   "outputs": [],
   "metadata": {}
  },
  {
   "cell_type": "code",
   "execution_count": 37,
   "source": [
    "main_dataset_dropped = main_dataset.drop(columns=['Location Name','Geo Location'])"
   ],
   "outputs": [],
   "metadata": {}
  },
  {
   "cell_type": "code",
   "execution_count": 38,
   "source": [
    "main_dataset_dropped.to_csv(cwd + '/datasets/Data_main.csv', index=False)"
   ],
   "outputs": [],
   "metadata": {}
  },
  {
   "cell_type": "code",
   "execution_count": 39,
   "source": [
    "main_dataset_dropped.info()"
   ],
   "outputs": [
    {
     "output_type": "stream",
     "name": "stdout",
     "text": [
      "<class 'pandas.core.frame.DataFrame'>\n",
      "RangeIndex: 667 entries, 0 to 666\n",
      "Data columns (total 5 columns):\n",
      " #   Column  Non-Null Count  Dtype  \n",
      "---  ------  --------------  -----  \n",
      " 0   City    667 non-null    object \n",
      " 1   State   667 non-null    object \n",
      " 2   Song    667 non-null    object \n",
      " 3   lat     666 non-null    float64\n",
      " 4   long    666 non-null    float64\n",
      "dtypes: float64(2), object(3)\n",
      "memory usage: 26.2+ KB\n"
     ]
    }
   ],
   "metadata": {}
  },
  {
   "cell_type": "markdown",
   "source": [
    "## Merge all datasets"
   ],
   "metadata": {}
  },
  {
   "cell_type": "code",
   "execution_count": 40,
   "source": [
    "merged_data = pd.concat(map(pd.read_csv, glob.glob('datasets/*.csv')), ignore_index=True)\n",
    "merged_data.to_csv(cwd + '/Data_merged.csv')\n",
    "merged_data"
   ],
   "outputs": [
    {
     "output_type": "execute_result",
     "data": {
      "text/plain": [
       "             City       State  \\\n",
       "0     Los Angeles  California   \n",
       "1     Los Angeles  California   \n",
       "2     Los Angeles  California   \n",
       "3     Los Angeles  California   \n",
       "4     Los Angeles  California   \n",
       "...           ...         ...   \n",
       "9079    Ypsilanti    Michigan   \n",
       "9080    Ypsilanti    Michigan   \n",
       "9081    Ypsilanti    Michigan   \n",
       "9082    Ypsilanti    Michigan   \n",
       "9083   Youngstown        Ohio   \n",
       "\n",
       "                                                   Song        lat        long  \n",
       "0                                       10th & Crenshaw  34.053691 -118.242766  \n",
       "1                                 100 Miles and Runnin'  34.053691 -118.242766  \n",
       "2                                         101 Eastbound  34.053691 -118.242766  \n",
       "3                                   The 103rd St. Theme  34.053691 -118.242766  \n",
       "4                                     1977 Sunset Strip  34.053691 -118.242766  \n",
       "...                                                 ...        ...         ...  \n",
       "9079                                  Born in a Trailer  42.241056  -83.613055  \n",
       "9080  For The Widows In Paradise, For The Fatherless...  42.241056  -83.613055  \n",
       "9081                                          Ypsilanti  42.241056  -83.613055  \n",
       "9082                                     Ypsilanti Song  42.241056  -83.613055  \n",
       "9083                                         Youngstown  41.103579  -80.652016  \n",
       "\n",
       "[9084 rows x 5 columns]"
      ],
      "text/html": [
       "<div>\n",
       "<style scoped>\n",
       "    .dataframe tbody tr th:only-of-type {\n",
       "        vertical-align: middle;\n",
       "    }\n",
       "\n",
       "    .dataframe tbody tr th {\n",
       "        vertical-align: top;\n",
       "    }\n",
       "\n",
       "    .dataframe thead th {\n",
       "        text-align: right;\n",
       "    }\n",
       "</style>\n",
       "<table border=\"1\" class=\"dataframe\">\n",
       "  <thead>\n",
       "    <tr style=\"text-align: right;\">\n",
       "      <th></th>\n",
       "      <th>City</th>\n",
       "      <th>State</th>\n",
       "      <th>Song</th>\n",
       "      <th>lat</th>\n",
       "      <th>long</th>\n",
       "    </tr>\n",
       "  </thead>\n",
       "  <tbody>\n",
       "    <tr>\n",
       "      <th>0</th>\n",
       "      <td>Los Angeles</td>\n",
       "      <td>California</td>\n",
       "      <td>10th &amp; Crenshaw</td>\n",
       "      <td>34.053691</td>\n",
       "      <td>-118.242766</td>\n",
       "    </tr>\n",
       "    <tr>\n",
       "      <th>1</th>\n",
       "      <td>Los Angeles</td>\n",
       "      <td>California</td>\n",
       "      <td>100 Miles and Runnin'</td>\n",
       "      <td>34.053691</td>\n",
       "      <td>-118.242766</td>\n",
       "    </tr>\n",
       "    <tr>\n",
       "      <th>2</th>\n",
       "      <td>Los Angeles</td>\n",
       "      <td>California</td>\n",
       "      <td>101 Eastbound</td>\n",
       "      <td>34.053691</td>\n",
       "      <td>-118.242766</td>\n",
       "    </tr>\n",
       "    <tr>\n",
       "      <th>3</th>\n",
       "      <td>Los Angeles</td>\n",
       "      <td>California</td>\n",
       "      <td>The 103rd St. Theme</td>\n",
       "      <td>34.053691</td>\n",
       "      <td>-118.242766</td>\n",
       "    </tr>\n",
       "    <tr>\n",
       "      <th>4</th>\n",
       "      <td>Los Angeles</td>\n",
       "      <td>California</td>\n",
       "      <td>1977 Sunset Strip</td>\n",
       "      <td>34.053691</td>\n",
       "      <td>-118.242766</td>\n",
       "    </tr>\n",
       "    <tr>\n",
       "      <th>...</th>\n",
       "      <td>...</td>\n",
       "      <td>...</td>\n",
       "      <td>...</td>\n",
       "      <td>...</td>\n",
       "      <td>...</td>\n",
       "    </tr>\n",
       "    <tr>\n",
       "      <th>9079</th>\n",
       "      <td>Ypsilanti</td>\n",
       "      <td>Michigan</td>\n",
       "      <td>Born in a Trailer</td>\n",
       "      <td>42.241056</td>\n",
       "      <td>-83.613055</td>\n",
       "    </tr>\n",
       "    <tr>\n",
       "      <th>9080</th>\n",
       "      <td>Ypsilanti</td>\n",
       "      <td>Michigan</td>\n",
       "      <td>For The Widows In Paradise, For The Fatherless...</td>\n",
       "      <td>42.241056</td>\n",
       "      <td>-83.613055</td>\n",
       "    </tr>\n",
       "    <tr>\n",
       "      <th>9081</th>\n",
       "      <td>Ypsilanti</td>\n",
       "      <td>Michigan</td>\n",
       "      <td>Ypsilanti</td>\n",
       "      <td>42.241056</td>\n",
       "      <td>-83.613055</td>\n",
       "    </tr>\n",
       "    <tr>\n",
       "      <th>9082</th>\n",
       "      <td>Ypsilanti</td>\n",
       "      <td>Michigan</td>\n",
       "      <td>Ypsilanti Song</td>\n",
       "      <td>42.241056</td>\n",
       "      <td>-83.613055</td>\n",
       "    </tr>\n",
       "    <tr>\n",
       "      <th>9083</th>\n",
       "      <td>Youngstown</td>\n",
       "      <td>Ohio</td>\n",
       "      <td>Youngstown</td>\n",
       "      <td>41.103579</td>\n",
       "      <td>-80.652016</td>\n",
       "    </tr>\n",
       "  </tbody>\n",
       "</table>\n",
       "<p>9084 rows × 5 columns</p>\n",
       "</div>"
      ]
     },
     "metadata": {},
     "execution_count": 40
    }
   ],
   "metadata": {}
  },
  {
   "cell_type": "code",
   "execution_count": 41,
   "source": [
    "merged_data.info()"
   ],
   "outputs": [
    {
     "output_type": "stream",
     "name": "stdout",
     "text": [
      "<class 'pandas.core.frame.DataFrame'>\n",
      "RangeIndex: 9084 entries, 0 to 9083\n",
      "Data columns (total 5 columns):\n",
      " #   Column  Non-Null Count  Dtype  \n",
      "---  ------  --------------  -----  \n",
      " 0   City    9084 non-null   object \n",
      " 1   State   9084 non-null   object \n",
      " 2   Song    9030 non-null   object \n",
      " 3   lat     9083 non-null   float64\n",
      " 4   long    9083 non-null   float64\n",
      "dtypes: float64(2), object(3)\n",
      "memory usage: 355.0+ KB\n"
     ]
    }
   ],
   "metadata": {}
  },
  {
   "cell_type": "code",
   "execution_count": 42,
   "source": [
    "shutil.copy2(cwd + '/Data_merged.csv', cwd + '/../data_viz')"
   ],
   "outputs": [
    {
     "output_type": "execute_result",
     "data": {
      "text/plain": [
       "'/Users/dominikilnicki/Documents/data-science/city-songs/creating_dataset/../data_viz/Data_merged.csv'"
      ]
     },
     "metadata": {},
     "execution_count": 42
    }
   ],
   "metadata": {}
  }
 ],
 "metadata": {
  "kernelspec": {
   "name": "python3",
   "display_name": "Python 3.8.10 64-bit ('webscraping': conda)"
  },
  "language_info": {
   "codemirror_mode": {
    "name": "ipython",
    "version": 3
   },
   "file_extension": ".py",
   "mimetype": "text/x-python",
   "name": "python",
   "nbconvert_exporter": "python",
   "pygments_lexer": "ipython3",
   "version": "3.8.10"
  },
  "interpreter": {
   "hash": "a0f3f1c78d9d0645b6ecda63dc91b32fd233a6ca0882f9c6740e4d53711de2e4"
  }
 },
 "nbformat": 4,
 "nbformat_minor": 5
}